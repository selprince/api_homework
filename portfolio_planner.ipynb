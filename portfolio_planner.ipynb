{
 "cells": [
  {
   "cell_type": "code",
   "execution_count": 179,
   "metadata": {},
   "outputs": [],
   "source": [
    "import numpy as np\n",
    "import pandas as pd\n",
    "from datetime import datetime, timedelta\n",
    "from iexfinance.refdata import get_symbols\n",
    "import matplotlib.pyplot as plt\n",
    "%matplotlib inline"
   ]
  },
  {
   "cell_type": "code",
   "execution_count": 180,
   "metadata": {},
   "outputs": [],
   "source": [
    "np.random.seed(42)"
   ]
  },
  {
   "cell_type": "markdown",
   "metadata": {},
   "source": [
    "# Portfolio Planner\n",
    "\n",
    "In this activity, you will use the iexfinance api to grab historical data for a 60/40 portfolio using `SPY` to represent the stock portion and `AGG` to represent the bonds."
   ]
  },
  {
   "cell_type": "code",
   "execution_count": 181,
   "metadata": {},
   "outputs": [],
   "source": [
    "from iexfinance.stocks import get_historical_data\n",
    "import iexfinance as iex\n"
   ]
  },
  {
   "cell_type": "markdown",
   "metadata": {},
   "source": [
    "# Data Collection\n",
    "\n",
    "In this step, you will need to use the IEX api to fetch closing prices for the `SPY` and `AGG` tickers. Save the results as a pandas DataFrame"
   ]
  },
  {
   "cell_type": "code",
   "execution_count": 182,
   "metadata": {},
   "outputs": [
    {
     "data": {
      "text/html": [
       "<div>\n",
       "<style scoped>\n",
       "    .dataframe tbody tr th:only-of-type {\n",
       "        vertical-align: middle;\n",
       "    }\n",
       "\n",
       "    .dataframe tbody tr th {\n",
       "        vertical-align: top;\n",
       "    }\n",
       "\n",
       "    .dataframe thead tr th {\n",
       "        text-align: left;\n",
       "    }\n",
       "\n",
       "    .dataframe thead tr:last-of-type th {\n",
       "        text-align: right;\n",
       "    }\n",
       "</style>\n",
       "<table border=\"1\" class=\"dataframe\">\n",
       "  <thead>\n",
       "    <tr>\n",
       "      <th></th>\n",
       "      <th>SPY</th>\n",
       "      <th>AGG</th>\n",
       "    </tr>\n",
       "    <tr>\n",
       "      <th></th>\n",
       "      <th>close</th>\n",
       "      <th>close</th>\n",
       "    </tr>\n",
       "    <tr>\n",
       "      <th>date</th>\n",
       "      <th></th>\n",
       "      <th></th>\n",
       "    </tr>\n",
       "  </thead>\n",
       "  <tbody>\n",
       "    <tr>\n",
       "      <td>2019-02-04</td>\n",
       "      <td>271.96</td>\n",
       "      <td>106.88</td>\n",
       "    </tr>\n",
       "    <tr>\n",
       "      <td>2019-02-05</td>\n",
       "      <td>273.10</td>\n",
       "      <td>107.11</td>\n",
       "    </tr>\n",
       "    <tr>\n",
       "      <td>2019-02-06</td>\n",
       "      <td>272.74</td>\n",
       "      <td>107.05</td>\n",
       "    </tr>\n",
       "    <tr>\n",
       "      <td>2019-02-07</td>\n",
       "      <td>270.14</td>\n",
       "      <td>107.10</td>\n",
       "    </tr>\n",
       "    <tr>\n",
       "      <td>2019-02-08</td>\n",
       "      <td>270.47</td>\n",
       "      <td>107.34</td>\n",
       "    </tr>\n",
       "    <tr>\n",
       "      <td>...</td>\n",
       "      <td>...</td>\n",
       "      <td>...</td>\n",
       "    </tr>\n",
       "    <tr>\n",
       "      <td>2020-01-28</td>\n",
       "      <td>326.89</td>\n",
       "      <td>114.04</td>\n",
       "    </tr>\n",
       "    <tr>\n",
       "      <td>2020-01-29</td>\n",
       "      <td>326.62</td>\n",
       "      <td>114.30</td>\n",
       "    </tr>\n",
       "    <tr>\n",
       "      <td>2020-01-30</td>\n",
       "      <td>327.68</td>\n",
       "      <td>114.31</td>\n",
       "    </tr>\n",
       "    <tr>\n",
       "      <td>2020-01-31</td>\n",
       "      <td>321.73</td>\n",
       "      <td>114.65</td>\n",
       "    </tr>\n",
       "    <tr>\n",
       "      <td>2020-01-31</td>\n",
       "      <td>321.73</td>\n",
       "      <td>114.65</td>\n",
       "    </tr>\n",
       "  </tbody>\n",
       "</table>\n",
       "<p>252 rows × 2 columns</p>\n",
       "</div>"
      ],
      "text/plain": [
       "               SPY     AGG\n",
       "             close   close\n",
       "date                      \n",
       "2019-02-04  271.96  106.88\n",
       "2019-02-05  273.10  107.11\n",
       "2019-02-06  272.74  107.05\n",
       "2019-02-07  270.14  107.10\n",
       "2019-02-08  270.47  107.34\n",
       "...            ...     ...\n",
       "2020-01-28  326.89  114.04\n",
       "2020-01-29  326.62  114.30\n",
       "2020-01-30  327.68  114.31\n",
       "2020-01-31  321.73  114.65\n",
       "2020-01-31  321.73  114.65\n",
       "\n",
       "[252 rows x 2 columns]"
      ]
     },
     "execution_count": 182,
     "metadata": {},
     "output_type": "execute_result"
    }
   ],
   "source": [
    "df = pd.read_hdf('SPYandAGG_Data.h5')\n",
    "df"
   ]
  },
  {
   "cell_type": "markdown",
   "metadata": {},
   "source": [
    "# Monte Carlo Simulation\n",
    "\n",
    "In this step, you will run Monte Carlo Simulations for your portfolio to model portfolio performance at different retirement ages. \n",
    "\n",
    "Complete the following steps:\n",
    "1. Calculate the daily returns for the SPY and AGG closing prices.\n",
    "2. Calculate volatility for both the SPY and AGG closing prices.\n",
    "3. Find the last day's closing price for both stocks and save those as variables.\n",
    "4. Run a Monte Carlo Simulation of at least 500 iterations and generate at least 30 years of closing prices\n",
    "\n",
    "### HINTS:\n",
    "There are 252 trading days per year, so the number of records to generate for each Monte Carlo run will be 252 days * 30 years"
   ]
  },
  {
   "cell_type": "code",
   "execution_count": 183,
   "metadata": {},
   "outputs": [
    {
     "data": {
      "text/html": [
       "<div>\n",
       "<style scoped>\n",
       "    .dataframe tbody tr th:only-of-type {\n",
       "        vertical-align: middle;\n",
       "    }\n",
       "\n",
       "    .dataframe tbody tr th {\n",
       "        vertical-align: top;\n",
       "    }\n",
       "\n",
       "    .dataframe thead tr th {\n",
       "        text-align: left;\n",
       "    }\n",
       "\n",
       "    .dataframe thead tr:last-of-type th {\n",
       "        text-align: right;\n",
       "    }\n",
       "</style>\n",
       "<table border=\"1\" class=\"dataframe\">\n",
       "  <thead>\n",
       "    <tr>\n",
       "      <th></th>\n",
       "      <th>SPY</th>\n",
       "      <th>AGG</th>\n",
       "    </tr>\n",
       "    <tr>\n",
       "      <th></th>\n",
       "      <th>close</th>\n",
       "      <th>close</th>\n",
       "    </tr>\n",
       "    <tr>\n",
       "      <th>date</th>\n",
       "      <th></th>\n",
       "      <th></th>\n",
       "    </tr>\n",
       "  </thead>\n",
       "  <tbody>\n",
       "    <tr>\n",
       "      <td>2019-02-04</td>\n",
       "      <td>NaN</td>\n",
       "      <td>NaN</td>\n",
       "    </tr>\n",
       "    <tr>\n",
       "      <td>2019-02-05</td>\n",
       "      <td>0.004192</td>\n",
       "      <td>0.002152</td>\n",
       "    </tr>\n",
       "    <tr>\n",
       "      <td>2019-02-06</td>\n",
       "      <td>-0.001318</td>\n",
       "      <td>-0.000560</td>\n",
       "    </tr>\n",
       "    <tr>\n",
       "      <td>2019-02-07</td>\n",
       "      <td>-0.009533</td>\n",
       "      <td>0.000467</td>\n",
       "    </tr>\n",
       "    <tr>\n",
       "      <td>2019-02-08</td>\n",
       "      <td>0.001222</td>\n",
       "      <td>0.002241</td>\n",
       "    </tr>\n",
       "    <tr>\n",
       "      <td>...</td>\n",
       "      <td>...</td>\n",
       "      <td>...</td>\n",
       "    </tr>\n",
       "    <tr>\n",
       "      <td>2020-01-28</td>\n",
       "      <td>0.010479</td>\n",
       "      <td>-0.000876</td>\n",
       "    </tr>\n",
       "    <tr>\n",
       "      <td>2020-01-29</td>\n",
       "      <td>-0.000826</td>\n",
       "      <td>0.002280</td>\n",
       "    </tr>\n",
       "    <tr>\n",
       "      <td>2020-01-30</td>\n",
       "      <td>0.003245</td>\n",
       "      <td>0.000087</td>\n",
       "    </tr>\n",
       "    <tr>\n",
       "      <td>2020-01-31</td>\n",
       "      <td>-0.018158</td>\n",
       "      <td>0.002974</td>\n",
       "    </tr>\n",
       "    <tr>\n",
       "      <td>2020-01-31</td>\n",
       "      <td>0.000000</td>\n",
       "      <td>0.000000</td>\n",
       "    </tr>\n",
       "  </tbody>\n",
       "</table>\n",
       "<p>252 rows × 2 columns</p>\n",
       "</div>"
      ],
      "text/plain": [
       "                 SPY       AGG\n",
       "               close     close\n",
       "date                          \n",
       "2019-02-04       NaN       NaN\n",
       "2019-02-05  0.004192  0.002152\n",
       "2019-02-06 -0.001318 -0.000560\n",
       "2019-02-07 -0.009533  0.000467\n",
       "2019-02-08  0.001222  0.002241\n",
       "...              ...       ...\n",
       "2020-01-28  0.010479 -0.000876\n",
       "2020-01-29 -0.000826  0.002280\n",
       "2020-01-30  0.003245  0.000087\n",
       "2020-01-31 -0.018158  0.002974\n",
       "2020-01-31  0.000000  0.000000\n",
       "\n",
       "[252 rows x 2 columns]"
      ]
     },
     "execution_count": 183,
     "metadata": {},
     "output_type": "execute_result"
    }
   ],
   "source": [
    "# Calculate the daily retunrs for the stocks\n",
    "df.drop(columns=['open', 'high', 'low', 'volume'], level=1)\n",
    "daily_returns = df.pct_change()\n",
    "daily_returns"
   ]
  },
  {
   "cell_type": "code",
   "execution_count": 184,
   "metadata": {},
   "outputs": [
    {
     "data": {
      "text/plain": [
       "SPY  close    0.000698\n",
       "AGG  close    0.000282\n",
       "dtype: float64"
      ]
     },
     "execution_count": 184,
     "metadata": {},
     "output_type": "execute_result"
    }
   ],
   "source": [
    "daily_returns.dropna(inplace=True)\n",
    "daily_returns.head()\n",
    "avg_daily_returns = daily_returns.mean()\n",
    "avg_daily_returns"
   ]
  },
  {
   "cell_type": "code",
   "execution_count": 185,
   "metadata": {},
   "outputs": [
    {
     "data": {
      "text/plain": [
       "0.007490927256700775"
      ]
     },
     "execution_count": 185,
     "metadata": {},
     "output_type": "execute_result"
    }
   ],
   "source": [
    "# Calculate volatility\n",
    "spy_volatility = daily_returns.std()['SPY']['close']\n",
    "agg_volatility = daily_returns.std()['AGG']['close']\n",
    "spy_volatility"
   ]
  },
  {
   "cell_type": "code",
   "execution_count": 186,
   "metadata": {},
   "outputs": [],
   "source": [
    "# Setup the Monte Carlo Parameters\n",
    "number_simulations = 500\n",
    "number_records = 252 * 30\n",
    "\n",
    "# Set last closing prices of `JNJ` and `MU`\n",
    "spy_last_price = df['SPY']['close'][-1]\n",
    "agg_last_price = df['AGG']['close'][-1]\n",
    "\n",
    "# Initialize empty DataFrame to hold simulated prices for each simulation\n",
    "simulated_price_df = pd.DataFrame()\n",
    "portfolio_cumulative_returns = pd.DataFrame()\n",
    "\n",
    "#\n",
    "spy_random_list = np.random.normal(avg_daily_returns['SPY']['close'], \n",
    "                                        spy_volatility,252*30*500).reshape(252*30,500)\n",
    "agg_random_list = np.random.normal(avg_daily_returns['AGG']['close'], \n",
    "                                        agg_volatility,252*30*500).reshape(252*30,500)\n"
   ]
  },
  {
   "cell_type": "code",
   "execution_count": 187,
   "metadata": {},
   "outputs": [
    {
     "data": {
      "text/html": [
       "<div>\n",
       "<style scoped>\n",
       "    .dataframe tbody tr th:only-of-type {\n",
       "        vertical-align: middle;\n",
       "    }\n",
       "\n",
       "    .dataframe tbody tr th {\n",
       "        vertical-align: top;\n",
       "    }\n",
       "\n",
       "    .dataframe thead th {\n",
       "        text-align: right;\n",
       "    }\n",
       "</style>\n",
       "<table border=\"1\" class=\"dataframe\">\n",
       "  <thead>\n",
       "    <tr style=\"text-align: right;\">\n",
       "      <th></th>\n",
       "      <th>0</th>\n",
       "      <th>1</th>\n",
       "      <th>2</th>\n",
       "      <th>3</th>\n",
       "      <th>4</th>\n",
       "      <th>5</th>\n",
       "      <th>6</th>\n",
       "      <th>7</th>\n",
       "      <th>8</th>\n",
       "      <th>9</th>\n",
       "      <th>...</th>\n",
       "      <th>490</th>\n",
       "      <th>491</th>\n",
       "      <th>492</th>\n",
       "      <th>493</th>\n",
       "      <th>494</th>\n",
       "      <th>495</th>\n",
       "      <th>496</th>\n",
       "      <th>497</th>\n",
       "      <th>498</th>\n",
       "      <th>499</th>\n",
       "    </tr>\n",
       "  </thead>\n",
       "  <tbody>\n",
       "    <tr>\n",
       "      <td>0</td>\n",
       "      <td>1.000000</td>\n",
       "      <td>1.000000</td>\n",
       "      <td>1.000000</td>\n",
       "      <td>1.000000</td>\n",
       "      <td>1.000000</td>\n",
       "      <td>1.000000</td>\n",
       "      <td>1.000000</td>\n",
       "      <td>1.000000</td>\n",
       "      <td>1.000000</td>\n",
       "      <td>1.000000</td>\n",
       "      <td>...</td>\n",
       "      <td>1.000000</td>\n",
       "      <td>1.000000</td>\n",
       "      <td>1.000000</td>\n",
       "      <td>1.000000</td>\n",
       "      <td>1.000000</td>\n",
       "      <td>1.000000</td>\n",
       "      <td>1.000000</td>\n",
       "      <td>1.000000</td>\n",
       "      <td>1.000000</td>\n",
       "      <td>1.000000</td>\n",
       "    </tr>\n",
       "    <tr>\n",
       "      <td>1</td>\n",
       "      <td>1.002327</td>\n",
       "      <td>0.999165</td>\n",
       "      <td>1.004356</td>\n",
       "      <td>1.007440</td>\n",
       "      <td>0.999681</td>\n",
       "      <td>0.997556</td>\n",
       "      <td>1.009057</td>\n",
       "      <td>1.003404</td>\n",
       "      <td>0.998275</td>\n",
       "      <td>1.002826</td>\n",
       "      <td>...</td>\n",
       "      <td>1.000033</td>\n",
       "      <td>1.006017</td>\n",
       "      <td>1.002645</td>\n",
       "      <td>0.998310</td>\n",
       "      <td>1.007376</td>\n",
       "      <td>1.003649</td>\n",
       "      <td>0.993847</td>\n",
       "      <td>1.000729</td>\n",
       "      <td>0.996905</td>\n",
       "      <td>0.993606</td>\n",
       "    </tr>\n",
       "    <tr>\n",
       "      <td>2</td>\n",
       "      <td>1.006592</td>\n",
       "      <td>1.009084</td>\n",
       "      <td>0.999163</td>\n",
       "      <td>1.009117</td>\n",
       "      <td>0.999628</td>\n",
       "      <td>0.995568</td>\n",
       "      <td>1.007341</td>\n",
       "      <td>1.000471</td>\n",
       "      <td>0.998506</td>\n",
       "      <td>0.999012</td>\n",
       "      <td>...</td>\n",
       "      <td>1.002610</td>\n",
       "      <td>0.996316</td>\n",
       "      <td>1.003014</td>\n",
       "      <td>0.996522</td>\n",
       "      <td>1.003363</td>\n",
       "      <td>1.001454</td>\n",
       "      <td>1.002602</td>\n",
       "      <td>1.003076</td>\n",
       "      <td>0.996548</td>\n",
       "      <td>0.995637</td>\n",
       "    </tr>\n",
       "    <tr>\n",
       "      <td>3</td>\n",
       "      <td>1.013131</td>\n",
       "      <td>1.012311</td>\n",
       "      <td>0.999870</td>\n",
       "      <td>1.006483</td>\n",
       "      <td>1.003355</td>\n",
       "      <td>0.995842</td>\n",
       "      <td>1.013309</td>\n",
       "      <td>1.003165</td>\n",
       "      <td>1.004041</td>\n",
       "      <td>0.995968</td>\n",
       "      <td>...</td>\n",
       "      <td>0.999811</td>\n",
       "      <td>1.007798</td>\n",
       "      <td>1.002473</td>\n",
       "      <td>0.998677</td>\n",
       "      <td>1.011873</td>\n",
       "      <td>1.012219</td>\n",
       "      <td>1.011768</td>\n",
       "      <td>1.008650</td>\n",
       "      <td>1.001155</td>\n",
       "      <td>0.999897</td>\n",
       "    </tr>\n",
       "    <tr>\n",
       "      <td>4</td>\n",
       "      <td>1.016536</td>\n",
       "      <td>1.010916</td>\n",
       "      <td>0.996274</td>\n",
       "      <td>1.006814</td>\n",
       "      <td>1.002525</td>\n",
       "      <td>0.994470</td>\n",
       "      <td>1.017495</td>\n",
       "      <td>1.007846</td>\n",
       "      <td>1.004880</td>\n",
       "      <td>1.003617</td>\n",
       "      <td>...</td>\n",
       "      <td>1.004831</td>\n",
       "      <td>1.012001</td>\n",
       "      <td>1.007397</td>\n",
       "      <td>1.002924</td>\n",
       "      <td>1.013733</td>\n",
       "      <td>1.017595</td>\n",
       "      <td>1.012818</td>\n",
       "      <td>1.004092</td>\n",
       "      <td>1.000692</td>\n",
       "      <td>0.996763</td>\n",
       "    </tr>\n",
       "  </tbody>\n",
       "</table>\n",
       "<p>5 rows × 500 columns</p>\n",
       "</div>"
      ],
      "text/plain": [
       "        0         1         2         3         4         5         6    \\\n",
       "0  1.000000  1.000000  1.000000  1.000000  1.000000  1.000000  1.000000   \n",
       "1  1.002327  0.999165  1.004356  1.007440  0.999681  0.997556  1.009057   \n",
       "2  1.006592  1.009084  0.999163  1.009117  0.999628  0.995568  1.007341   \n",
       "3  1.013131  1.012311  0.999870  1.006483  1.003355  0.995842  1.013309   \n",
       "4  1.016536  1.010916  0.996274  1.006814  1.002525  0.994470  1.017495   \n",
       "\n",
       "        7         8         9    ...       490       491       492       493  \\\n",
       "0  1.000000  1.000000  1.000000  ...  1.000000  1.000000  1.000000  1.000000   \n",
       "1  1.003404  0.998275  1.002826  ...  1.000033  1.006017  1.002645  0.998310   \n",
       "2  1.000471  0.998506  0.999012  ...  1.002610  0.996316  1.003014  0.996522   \n",
       "3  1.003165  1.004041  0.995968  ...  0.999811  1.007798  1.002473  0.998677   \n",
       "4  1.007846  1.004880  1.003617  ...  1.004831  1.012001  1.007397  1.002924   \n",
       "\n",
       "        494       495       496       497       498       499  \n",
       "0  1.000000  1.000000  1.000000  1.000000  1.000000  1.000000  \n",
       "1  1.007376  1.003649  0.993847  1.000729  0.996905  0.993606  \n",
       "2  1.003363  1.001454  1.002602  1.003076  0.996548  0.995637  \n",
       "3  1.011873  1.012219  1.011768  1.008650  1.001155  0.999897  \n",
       "4  1.013733  1.017595  1.012818  1.004092  1.000692  0.996763  \n",
       "\n",
       "[5 rows x 500 columns]"
      ]
     },
     "execution_count": 187,
     "metadata": {},
     "output_type": "execute_result"
    }
   ],
   "source": [
    "# Run the Monte Carlo Simulation\n",
    "for x in range(number_simulations):\n",
    "    \n",
    "    # Initialize the simulated prices list with the last closing price of `SPY` and `AGG`\n",
    "    simulated_spy_prices = [spy_last_price]\n",
    "    simulated_agg_prices = [agg_last_price]\n",
    "    \n",
    "    # Simulate the returns for 30 years\n",
    "    for i in range(number_records):\n",
    "        \n",
    "        # Calculate the simulated price using the last price within the list\n",
    "        simulated_spy_prices_new = (simulated_spy_prices[-1] * (1 + spy_random_list[i][x]))\n",
    "        simulated_agg_prices_new = (simulated_agg_prices[-1] * (1 + agg_random_list[i][x]))\n",
    "        \n",
    "        # Append the simulated price to the list\n",
    "        simulated_spy_prices.append(simulated_spy_prices_new)\n",
    "        simulated_agg_prices.append(simulated_agg_prices_new)\n",
    "    \n",
    "    # Append a simulated prices of each simulation to DataFrame\n",
    "    simulated_price_df[\"SPY prices\"] = pd.Series(simulated_spy_prices)\n",
    "    simulated_price_df[\"AGG prices\"] = pd.Series(simulated_agg_prices)\n",
    "    \n",
    "    # Calculate the daily returns of simulated prices\n",
    "    simulated_daily_returns = simulated_price_df.pct_change()\n",
    "    \n",
    "    # Set the portfolio weights (60% SPY; 40% AGG)\n",
    "    weights = [0.6, 0.4]\n",
    "    \n",
    "    # Use the `dot` function with the weights to multiply weights with each column's \n",
    "    # simulated daily returns\n",
    "    portfolio_daily_returns = simulated_daily_returns.dot(weights)\n",
    "    \n",
    "    # Calculate the normalized, cumulative return series\n",
    "    portfolio_cumulative_returns[x] = (1 + portfolio_daily_returns.fillna(0)).cumprod()\n",
    "       \n",
    "portfolio_cumulative_returns.head()"
   ]
  },
  {
   "cell_type": "code",
   "execution_count": 188,
   "metadata": {},
   "outputs": [
    {
     "data": {
      "text/plain": [
       "'500 Simulations of Cumulative Portfolio Return Trajectories Over the Next 252 Trading Days'"
      ]
     },
     "execution_count": 188,
     "metadata": {},
     "output_type": "execute_result"
    },
    {
     "data": {
      "image/png": "[encoded data removed]",
      "text/plain": [
       "<Figure size 432x288 with 1 Axes>"
      ]
     },
     "metadata": {
      "needs_background": "light"
     },
     "output_type": "display_data"
    }
   ],
   "source": [
    "# Visualize the Simulation\n",
    "plot_title = f\"{x+1} Simulations of Cumulative Portfolio Return Trajectories Over the Next 252 Trading Days\"\n",
    "portfolio_cumulative_returns.plot(legend=None, title=plot_title)\n",
    "plot_title"
   ]
  },
  {
   "cell_type": "code",
   "execution_count": 189,
   "metadata": {},
   "outputs": [
    {
     "data": {
      "text/plain": [
       "0    57.871231\n",
       "1    49.149850\n",
       "2    47.063349\n",
       "3    58.795038\n",
       "4    52.838563\n",
       "Name: 7560, dtype: float64"
      ]
     },
     "execution_count": 189,
     "metadata": {},
     "output_type": "execute_result"
    }
   ],
   "source": [
    "# Select the last row for the cumulative returns (cumulative returns at 30 years)\n",
    "ending_cumulative_returns = portfolio_cumulative_returns.iloc[-(1), :]\n",
    "ending_cumulative_returns.head()"
   ]
  },
  {
   "cell_type": "code",
   "execution_count": 190,
   "metadata": {},
   "outputs": [
    {
     "data": {
      "text/plain": [
       "0    16.409740\n",
       "1    12.849472\n",
       "2     8.228331\n",
       "3    11.135378\n",
       "4    17.044065\n",
       "Name: 5041, dtype: float64"
      ]
     },
     "execution_count": 190,
     "metadata": {},
     "output_type": "execute_result"
    }
   ],
   "source": [
    "# Select the last row for the cumulative returns (cumulative returns at 20 years)\n",
    "ending_cumulative_returns = portfolio_cumulative_returns.iloc[-(252*10), :]\n",
    "ending_cumulative_returns.head()"
   ]
  },
  {
   "cell_type": "code",
   "execution_count": 191,
   "metadata": {},
   "outputs": [
    {
     "data": {
      "text/plain": [
       "0.1     8.833058\n",
       "0.9    21.369287\n",
       "Name: 5041, dtype: float64"
      ]
     },
     "execution_count": 191,
     "metadata": {},
     "output_type": "execute_result"
    }
   ],
   "source": [
    "# Display the 90% confidence interval for the ending returns\n",
    "confidence_interval = ending_cumulative_returns.quantile(q=[0.1, 0.9])\n",
    "confidence_interval"
   ]
  },
  {
   "cell_type": "code",
   "execution_count": 192,
   "metadata": {},
   "outputs": [
    {
     "data": {
      "text/plain": [
       "<matplotlib.axes._subplots.AxesSubplot at 0x282a2678108>"
      ]
     },
     "execution_count": 192,
     "metadata": {},
     "output_type": "execute_result"
    },
    {
     "data": {
      "image/png": "[encoded data removed]",
      "text/plain": [
       "<Figure size 432x288 with 1 Axes>"
      ]
     },
     "metadata": {
      "needs_background": "light"
     },
     "output_type": "display_data"
    }
   ],
   "source": [
    "# Visualize the distribution of the ending returns\n",
    "ending_cumulative_returns.plot(kind='hist', bins=10)"
   ]
  },
  {
   "cell_type": "markdown",
   "metadata": {},
   "source": [
    "---"
   ]
  },
  {
   "cell_type": "markdown",
   "metadata": {},
   "source": [
    "# Retirement Analysis\n",
    "\n",
    "In this section, you will use the monte carlo model to answer the following retirement planning questions:\n",
    "\n",
    "1. What are the expected cumulative returns at 30 years for the 10th, 50th, and 90th percentiles?\n",
    "2. Given an initial investment of `$20,000`, what is the expected portfolio return in dollars at the 10th, 50th, and 90th percentiles?\n",
    "3. Given the current projected annual income from the Plaid analysis, will a 4% withdraw rate from the retirement portfolio meet or exceed that value at the 10th percentile?\n",
    "4. How would a 50% increase in the initial investment amount affect the 4% retirement withdrawal?"
   ]
  },
  {
   "cell_type": "markdown",
   "metadata": {},
   "source": [
    "### What are the expected cumulative returns at 30 years for the 10th, 50th, and 90th percentiles?"
   ]
  },
  {
   "cell_type": "code",
   "execution_count": 193,
   "metadata": {},
   "outputs": [
    {
     "name": "stdout",
     "output_type": "stream",
     "text": [
      "0.9    21.369287\n",
      "0.1     8.833058\n",
      "Name: 5041, dtype: float64\n",
      "0.5    13.586704\n",
      "0.5    13.586704\n",
      "Name: 5041, dtype: float64\n",
      "0.1     8.833058\n",
      "0.9    21.369287\n",
      "Name: 5041, dtype: float64\n"
     ]
    }
   ],
   "source": [
    "confidence_interval_p10 = ending_cumulative_returns.quantile(q=[0.9, 0.1])\n",
    "confidence_interval_p10\n",
    "confidence_interval_p50 = ending_cumulative_returns.quantile(q=[0.5, 0.5])\n",
    "confidence_interval_p50\n",
    "confidence_interval_p90 = ending_cumulative_returns.quantile(q=[0.1, 0.9])\n",
    "print(confidence_interval_p10)\n",
    "print(confidence_interval_p50)\n",
    "print(confidence_interval_p90)"
   ]
  },
  {
   "cell_type": "markdown",
   "metadata": {},
   "source": [
    "### Given an initial investment of `$20,000`, what is the expected portfolio return in dollars at the 10th, 50th, and 90th percentiles?"
   ]
  },
  {
   "cell_type": "code",
   "execution_count": 194,
   "metadata": {},
   "outputs": [
    {
     "name": "stdout",
     "output_type": "stream",
     "text": [
      "447385.7372218901\n",
      "291734.0844468683\n",
      "196661.1594702293\n"
     ]
    }
   ],
   "source": [
    "initial_investment = 20000\n",
    "\n",
    "expected_portfolio_returns_p10 = initial_investment + (initial_investment * confidence_interval_p10.iloc[0])\n",
    "\n",
    "expected_portfolio_returns_p50 = initial_investment + (initial_investment * confidence_interval_p50.iloc[0])\n",
    "\n",
    "expected_portfolio_returns_p90 = initial_investment + (initial_investment * confidence_interval_p90.iloc[0])\n",
    "\n",
    "print(expected_portfolio_returns_p10)\n",
    "print(expected_portfolio_returns_p50)\n",
    "print(expected_portfolio_returns_p90)\n",
    "\n"
   ]
  },
  {
   "cell_type": "markdown",
   "metadata": {},
   "source": [
    "### Given the current projected annual income from the Plaid analysis, will a 4% withdraw rate from the retirement portfolio meet or exceed that value at the 10th percentile?\n",
    "\n",
    "Note: This is effectively saying that 90% of the expected returns will be greater than the return at the 10th percentile, so this can help measure the uncertainty about having enough funds at retirement"
   ]
  },
  {
   "cell_type": "code",
   "execution_count": 195,
   "metadata": {},
   "outputs": [
    {
     "name": "stdout",
     "output_type": "stream",
     "text": [
      "Projected income is: 7389, which is less than a 4% withdrawl rate which yields: 17895.429488875605\n"
     ]
    }
   ],
   "source": [
    "Projected_income = 7389\n",
    "\n",
    "withdrawl = expected_portfolio_returns_p10 * .04\n",
    "\n",
    "print(f'Projected income is: {Projected_income}, which is less than a 4% withdrawl rate which yields: {withdrawl}')"
   ]
  },
  {
   "cell_type": "markdown",
   "metadata": {},
   "source": [
    "### How would a 50% increase in the initial investment amount affect the 4% retirement withdrawal?"
   ]
  },
  {
   "cell_type": "code",
   "execution_count": 196,
   "metadata": {},
   "outputs": [
    {
     "name": "stdout",
     "output_type": "stream",
     "text": [
      "Projected income is: 7389, which is less than a 4% withdrawl rate which yields: 26843.144233313407\n"
     ]
    }
   ],
   "source": [
    "initial_investment_increase = 20000 * 1.5\n",
    "expected_portfolio_returns_p10_new = initial_investment_increase + (initial_investment_increase * confidence_interval_p10.iloc[0])\n",
    "\n",
    "\n",
    "withdrawl_new = expected_portfolio_returns_p10_new * .04\n",
    "withdrawl_new\n",
    "\n",
    "print(f'Projected income is: {Projected_income}, which is less than a 4% withdrawl rate which yields: {withdrawl_new}')"
   ]
  },
  {
   "cell_type": "markdown",
   "metadata": {},
   "source": [
    "### Optional Challenge\n",
    "\n",
    "In this section, you will calculate and plot the cumulative returns for the median and 90% confidence intervals. This plot shows the expected cumulative returns for any given day between the first day and the last day of investment. "
   ]
  },
  {
   "cell_type": "code",
   "execution_count": 198,
   "metadata": {},
   "outputs": [
    {
     "data": {
      "text/plain": [
       "<matplotlib.lines.Line2D at 0x282a388e0c8>"
      ]
     },
     "execution_count": 198,
     "metadata": {},
     "output_type": "execute_result"
    },
    {
     "data": {
      "image/png": "[encoded data removed]",
      "text/plain": [
       "<Figure size 432x288 with 1 Axes>"
      ]
     },
     "metadata": {
      "needs_background": "light"
     },
     "output_type": "display_data"
    }
   ],
   "source": [
    "plt.figure();\n",
    "ending_cumulative_returns.plot(kind='hist', density=True, bins=20)\n",
    "plt.axvline(confidence_interval_p90.iloc[0], color='r')\n",
    "plt.axvline(confidence_interval_p90.iloc[1], color='r')"
   ]
  },
  {
   "cell_type": "code",
   "execution_count": null,
   "metadata": {},
   "outputs": [],
   "source": []
  }
 ],
 "metadata": {
  "kernel_info": {
   "name": "dev"
  },
  "kernelspec": {
   "display_name": "Python 3",
   "language": "python",
   "name": "python3"
  },
  "language_info": {
   "codemirror_mode": {
    "name": "ipython",
    "version": 3
   },
   "file_extension": ".py",
   "mimetype": "text/x-python",
   "name": "python",
   "nbconvert_exporter": "python",
   "pygments_lexer": "ipython3",
   "version": "3.7.4"
  },
  "nteract": {
   "version": "0.12.3"
  }
 },
 "nbformat": 4,
 "nbformat_minor": 4
}
