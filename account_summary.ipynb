{
 "cells": [
  {
   "cell_type": "code",
   "execution_count": 249,
   "metadata": {},
   "outputs": [],
   "source": [
    "import os\n",
    "import plaid\n",
    "import requests\n",
    "import datetime\n",
    "import json\n",
    "import pandas as pd\n",
    "import numpy as np\n",
    "%matplotlib inline"
   ]
  },
  {
   "cell_type": "code",
   "execution_count": 250,
   "metadata": {},
   "outputs": [],
   "source": [
    "def pretty_print_response(response):\n",
    "  print(json.dumps(response, indent=4, sort_keys=True))"
   ]
  },
  {
   "cell_type": "code",
   "execution_count": 251,
   "metadata": {},
   "outputs": [],
   "source": [
    "PLAID_CLIENT_ID = os.getenv('PLAID_CLIENT_ID')\n",
    "PLAID_SECRET = os.getenv('PLAID_SECRET')\n",
    "PLAID_OPEN_KEY = os.getenv('PLAID_OPEN_KEY')\n",
    "PLAID_ENV = os.getenv('PLAID_ENV', 'sandbox')\n",
    "PLAID_PRODUCTS = os.getenv('PLAID_PRODUCTS', 'transactions')\n"
   ]
  },
  {
   "cell_type": "markdown",
   "metadata": {},
   "source": [
    "# Plaid Access Token\n",
    "\n",
    "In this section, you will use the plaid-python api to generate the correct authentication tokens to access data in the free developer Sandbox. This mimics how you might connect to your own account or a customer account, but due to privacy issues, this homework will only require connecting to and analyzing the fake data from the developer sandbox that Plaid provides. \n",
    "\n",
    "Complete the following steps to generate an access token:\n",
    "1. Create a client to connect to plaid\n",
    "2. Use the client to generate a public token and request the following items: \n",
    "['transactions', 'income', 'assets']\n",
    "3. Exchange the public token for an access token\n",
    "4. Test the access token by requesting and printing the available test accounts"
   ]
  },
  {
   "cell_type": "markdown",
   "metadata": {},
   "source": [
    "### 1. Create a client to connect to plaid"
   ]
  },
  {
   "cell_type": "code",
   "execution_count": 252,
   "metadata": {},
   "outputs": [],
   "source": [
    "client = plaid.Client(client_id=PLAID_CLIENT_ID, \n",
    "                      secret=PLAID_SECRET, \n",
    "                      public_key=PLAID_OPEN_KEY, \n",
    "                      environment='sandbox')\n",
    "\n",
    "INSTITUTION_ID = \"ins_109508\""
   ]
  },
  {
   "cell_type": "code",
   "execution_count": 253,
   "metadata": {},
   "outputs": [],
   "source": [
    "apikey = 'PLAID_CLIENT_ID'\n",
    "\n",
    "api_request = 'https://www.plaid.com/api/'"
   ]
  },
  {
   "cell_type": "markdown",
   "metadata": {},
   "source": [
    "### 2. Generate a public token"
   ]
  },
  {
   "cell_type": "code",
   "execution_count": 254,
   "metadata": {},
   "outputs": [
    {
     "data": {
      "text/plain": [
       "{'institutions': [{'country_codes': ['CA'],\n",
       "   'credentials': [{'label': 'Login ID', 'name': 'username', 'type': 'text'},\n",
       "    {'label': 'Access Code (PAC)', 'name': 'password', 'type': 'password'}],\n",
       "   'has_mfa': True,\n",
       "   'input_spec': 'fixed',\n",
       "   'institution_id': 'ins_118841',\n",
       "   'mfa': ['code', 'list', 'questions', 'selections'],\n",
       "   'mfa_code_type': 'numeric',\n",
       "   'name': 'Access Credit Union - Online Banking',\n",
       "   'products': ['assets', 'balance', 'transactions', 'income', 'identity'],\n",
       "   'routing_numbers': []}],\n",
       " 'request_id': 'F6KsB4VM9bEzSjF',\n",
       " 'total': 11416}"
      ]
     },
     "execution_count": 254,
     "metadata": {},
     "output_type": "execute_result"
    }
   ],
   "source": [
    "# YOUR CODE HERE\n",
    "create_open_token = client.Sandbox.public_token.create(INSTITUTION_ID,['transactions','income','assets'])\n",
    "client.Institutions.get(1)"
   ]
  },
  {
   "cell_type": "markdown",
   "metadata": {},
   "source": [
    "### 3. Exchange the public token for an access token"
   ]
  },
  {
   "cell_type": "code",
   "execution_count": 255,
   "metadata": {},
   "outputs": [],
   "source": [
    "exchange_token = client.Item.public_token.exchange(create_open_token['public_token'])\n"
   ]
  },
  {
   "cell_type": "markdown",
   "metadata": {},
   "source": [
    "### 4. Fetch Accounts"
   ]
  },
  {
   "cell_type": "code",
   "execution_count": 256,
   "metadata": {},
   "outputs": [
    {
     "data": {
      "text/plain": [
       "{'institutions': [{'country_codes': ['CA'],\n",
       "   'credentials': [{'label': 'Login ID', 'name': 'username', 'type': 'text'},\n",
       "    {'label': 'Access Code (PAC)', 'name': 'password', 'type': 'password'}],\n",
       "   'has_mfa': True,\n",
       "   'input_spec': 'fixed',\n",
       "   'institution_id': 'ins_118841',\n",
       "   'mfa': ['code', 'list', 'questions', 'selections'],\n",
       "   'mfa_code_type': 'numeric',\n",
       "   'name': 'Access Credit Union - Online Banking',\n",
       "   'products': ['assets', 'balance', 'transactions', 'income', 'identity'],\n",
       "   'routing_numbers': []}],\n",
       " 'request_id': 'WIaqNrfdpOOEYTD',\n",
       " 'total': 11416}"
      ]
     },
     "execution_count": 256,
     "metadata": {},
     "output_type": "execute_result"
    }
   ],
   "source": [
    "client.Institutions.get(1)"
   ]
  },
  {
   "cell_type": "markdown",
   "metadata": {},
   "source": [
    "---"
   ]
  },
  {
   "cell_type": "markdown",
   "metadata": {},
   "source": [
    "# Account Transactions with Plaid\n",
    "\n",
    "In this section, you will use the Plaid Python SDK to connect to the Developer Sandbox account and grab a list of transactions. You will need to complete the following steps:\n",
    "\n",
    "\n",
    "1. Use the access token to fetch the transactions for the last 90 days\n",
    "2. Print the categories for each transaction type\n",
    "3. Create a new DataFrame using the following fields from the JSON transaction data: `date, name, amount, category`. (For categories with more than one label, just use the first category label in the list)\n",
    "4. Convert the data types to the appropriate types (i.e. datetimeindex for the date and float for the amount)"
   ]
  },
  {
   "cell_type": "markdown",
   "metadata": {},
   "source": [
    "### 1. Fetch the Transactions for the last 90 days"
   ]
  },
  {
   "cell_type": "code",
   "execution_count": 257,
   "metadata": {},
   "outputs": [
    {
     "name": "stdout",
     "output_type": "stream",
     "text": [
      "[\n",
      "    {\n",
      "        \"account_id\": \"pvRP68V8LxFeZxjEAndwSKwrQxxbLGULr5mw8\",\n",
      "        \"account_owner\": null,\n",
      "        \"amount\": 500,\n",
      "        \"authorized_date\": null,\n",
      "        \"category\": [\n",
      "            \"Travel\",\n",
      "            \"Airlines and Aviation Services\"\n",
      "        ],\n",
      "        \"category_id\": \"22001000\",\n",
      "        \"date\": \"2020-01-31\",\n",
      "        \"iso_currency_code\": \"USD\",\n",
      "        \"location\": {\n",
      "            \"address\": null,\n",
      "            \"city\": null,\n",
      "            \"country\": null,\n",
      "            \"lat\": null,\n",
      "            \"lon\": null,\n",
      "            \"postal_code\": null,\n",
      "            \"region\": null,\n",
      "            \"store_number\": null\n",
      "        },\n",
      "        \"name\": \"United Airlines\",\n",
      "        \"payment_channel\": \"in store\",\n",
      "        \"payment_meta\": {\n",
      "            \"by_order_of\": null,\n",
      "            \"payee\": null,\n",
      "            \"payer\": null,\n",
      "            \"payment_method\": null,\n",
      "            \"payment_processor\": null,\n",
      "            \"ppd_id\": null,\n",
      "            \"reason\": null,\n",
      "            \"reference_number\": null\n",
      "        },\n",
      "        \"pending\": false,\n",
      "        \"pending_transaction_id\": null,\n",
      "        \"transaction_id\": \"jvmJRMVMZqF5zq89ejmKSwK8Nb8AREH1MQ8L5\",\n",
      "        \"transaction_type\": \"special\",\n",
      "        \"unofficial_currency_code\": null\n",
      "    }\n",
      "]\n"
     ]
    }
   ],
   "source": [
    "access_token = exchange_token['access_token']\n",
    "client.Accounts.get(access_token)\n",
    "\n",
    "# Get transactions for institution for specific date range\n",
    "start_date = '{:%Y-%m-%d}'.format(datetime.datetime.now() + datetime.timedelta(-90))\n",
    "end_date = '{:%Y-%m-%d}'.format(datetime.datetime.now())\n",
    "\n",
    "# Get transactions for date range\n",
    "transaction_response = client.Transactions.get(access_token,start_date,end_date)\n",
    "\n",
    "\n",
    "print(json.dumps(transaction_response['transactions'][:1],indent=4, sort_keys=True))"
   ]
  },
  {
   "cell_type": "markdown",
   "metadata": {},
   "source": [
    "### 2. Print the categories for each transaction"
   ]
  },
  {
   "cell_type": "code",
   "execution_count": 258,
   "metadata": {
    "collapsed": true,
    "jupyter": {
     "outputs_hidden": true
    }
   },
   "outputs": [
    {
     "name": "stdout",
     "output_type": "stream",
     "text": [
      "{'account_id': 'pvRP68V8LxFeZxjEAndwSKwrQxxbLGULr5mw8', 'account_owner': None, 'amount': 500, 'authorized_date': None, 'category': ['Travel', 'Airlines and Aviation Services'], 'category_id': '22001000', 'date': '2020-01-31', 'iso_currency_code': 'USD', 'location': {'address': None, 'city': None, 'country': None, 'lat': None, 'lon': None, 'postal_code': None, 'region': None, 'store_number': None}, 'name': 'United Airlines', 'payment_channel': 'in store', 'payment_meta': {'by_order_of': None, 'payee': None, 'payer': None, 'payment_method': None, 'payment_processor': None, 'ppd_id': None, 'reason': None, 'reference_number': None}, 'pending': False, 'pending_transaction_id': None, 'transaction_id': 'jvmJRMVMZqF5zq89ejmKSwK8Nb8AREH1MQ8L5', 'transaction_type': 'special', 'unofficial_currency_code': None}\n",
      "{'account_id': 'MJNjneMew3C6bLm93yBeFqWJ6ww983f9lQZKN', 'account_owner': None, 'amount': 6.33, 'authorized_date': None, 'category': ['Travel', 'Taxi'], 'category_id': '22016000', 'date': '2020-01-29', 'iso_currency_code': 'USD', 'location': {'address': None, 'city': None, 'country': None, 'lat': None, 'lon': None, 'postal_code': None, 'region': None, 'store_number': None}, 'name': 'Uber', 'payment_channel': 'in store', 'payment_meta': {'by_order_of': None, 'payee': None, 'payer': None, 'payment_method': None, 'payment_processor': None, 'ppd_id': None, 'reason': None, 'reference_number': None}, 'pending': False, 'pending_transaction_id': None, 'transaction_id': 'zvwa6dqdMZFn9ZwMV1d3tZ1yVNyj35fo7e1LQ', 'transaction_type': 'special', 'unofficial_currency_code': None}\n",
      "{'account_id': 'pvRP68V8LxFeZxjEAndwSKwrQxxbLGULr5mw8', 'account_owner': None, 'amount': 500, 'authorized_date': None, 'category': ['Food and Drink', 'Restaurants'], 'category_id': '13005000', 'date': '2020-01-26', 'iso_currency_code': 'USD', 'location': {'address': None, 'city': None, 'country': None, 'lat': None, 'lon': None, 'postal_code': None, 'region': None, 'store_number': None}, 'name': 'Tectra Inc', 'payment_channel': 'in store', 'payment_meta': {'by_order_of': None, 'payee': None, 'payer': None, 'payment_method': None, 'payment_processor': None, 'ppd_id': None, 'reason': None, 'reference_number': None}, 'pending': False, 'pending_transaction_id': None, 'transaction_id': '7o5ag1A1QMfZMqwvgaBph7Qk4pkBKriglwKnZ', 'transaction_type': 'place', 'unofficial_currency_code': None}\n",
      "{'account_id': 'pvRP68V8LxFeZxjEAndwSKwrQxxbLGULr5mw8', 'account_owner': None, 'amount': 2078.5, 'authorized_date': None, 'category': ['Payment'], 'category_id': '16000000', 'date': '2020-01-25', 'iso_currency_code': 'USD', 'location': {'address': None, 'city': None, 'country': None, 'lat': None, 'lon': None, 'postal_code': None, 'region': None, 'store_number': None}, 'name': 'AUTOMATIC PAYMENT - THANK', 'payment_channel': 'other', 'payment_meta': {'by_order_of': None, 'payee': None, 'payer': None, 'payment_method': None, 'payment_processor': None, 'ppd_id': None, 'reason': None, 'reference_number': None}, 'pending': False, 'pending_transaction_id': None, 'transaction_id': 'Zay8kKVKg1C1Rbekv5NjIKj1PA1zGLugRxDXL', 'transaction_type': 'special', 'unofficial_currency_code': None}\n",
      "{'account_id': 'pvRP68V8LxFeZxjEAndwSKwrQxxbLGULr5mw8', 'account_owner': None, 'amount': 500, 'authorized_date': None, 'category': ['Food and Drink', 'Restaurants', 'Fast Food'], 'category_id': '13005032', 'date': '2020-01-25', 'iso_currency_code': 'USD', 'location': {'address': None, 'city': None, 'country': None, 'lat': None, 'lon': None, 'postal_code': None, 'region': None, 'store_number': None}, 'name': 'KFC', 'payment_channel': 'in store', 'payment_meta': {'by_order_of': None, 'payee': None, 'payer': None, 'payment_method': None, 'payment_processor': None, 'ppd_id': None, 'reason': None, 'reference_number': None}, 'pending': False, 'pending_transaction_id': None, 'transaction_id': 'QlGXR1o1V4fdaW3ev1DwCPe4rn4xmoCpMjW7M', 'transaction_type': 'place', 'unofficial_currency_code': None}\n",
      "{'account_id': 'pvRP68V8LxFeZxjEAndwSKwrQxxbLGULr5mw8', 'account_owner': None, 'amount': 500, 'authorized_date': None, 'category': ['Shops', 'Sporting Goods'], 'category_id': '19046000', 'date': '2020-01-25', 'iso_currency_code': 'USD', 'location': {'address': None, 'city': None, 'country': None, 'lat': None, 'lon': None, 'postal_code': None, 'region': None, 'store_number': None}, 'name': 'Madison Bicycle Shop', 'payment_channel': 'in store', 'payment_meta': {'by_order_of': None, 'payee': None, 'payer': None, 'payment_method': None, 'payment_processor': None, 'ppd_id': None, 'reason': None, 'reference_number': None}, 'pending': False, 'pending_transaction_id': None, 'transaction_id': 'eLxPRjVjakiy8W4GJxqwTKw6ka65M3uLdxl5b', 'transaction_type': 'place', 'unofficial_currency_code': None}\n",
      "{'account_id': '1QM4AjpjykUd4D97LK8bCpomDXX5g4C5KMvzD', 'account_owner': None, 'amount': 25, 'authorized_date': None, 'category': ['Payment', 'Credit Card'], 'category_id': '16001000', 'date': '2020-01-16', 'iso_currency_code': 'USD', 'location': {'address': None, 'city': None, 'country': None, 'lat': None, 'lon': None, 'postal_code': None, 'region': None, 'store_number': None}, 'name': 'CREDIT CARD 3333 PAYMENT *//', 'payment_channel': 'other', 'payment_meta': {'by_order_of': None, 'payee': None, 'payer': None, 'payment_method': None, 'payment_processor': None, 'ppd_id': None, 'reason': None, 'reference_number': None}, 'pending': False, 'pending_transaction_id': None, 'transaction_id': '41kaAQ8QveCxbPa5ZBQwFMPyK3yvLRfdrmwAQ', 'transaction_type': 'special', 'unofficial_currency_code': None}\n",
      "{'account_id': 'MJNjneMew3C6bLm93yBeFqWJ6ww983f9lQZKN', 'account_owner': None, 'amount': 5.4, 'authorized_date': None, 'category': ['Travel', 'Taxi'], 'category_id': '22016000', 'date': '2020-01-16', 'iso_currency_code': 'USD', 'location': {'address': None, 'city': None, 'country': None, 'lat': None, 'lon': None, 'postal_code': None, 'region': None, 'store_number': None}, 'name': 'Uber', 'payment_channel': 'in store', 'payment_meta': {'by_order_of': None, 'payee': None, 'payer': None, 'payment_method': None, 'payment_processor': None, 'ppd_id': None, 'reason': None, 'reference_number': None}, 'pending': False, 'pending_transaction_id': None, 'transaction_id': 'BJKDozxzlnCKVaNLMkq3hapW9rWEZJiwWkN8x', 'transaction_type': 'special', 'unofficial_currency_code': None}\n",
      "{'account_id': 'ovmJ6gVgX3Fon3eGmdwQhBQM4bbLZ3CRMNwjw', 'account_owner': None, 'amount': 5850, 'authorized_date': None, 'category': ['Transfer', 'Debit'], 'category_id': '21006000', 'date': '2020-01-15', 'iso_currency_code': 'USD', 'location': {'address': None, 'city': None, 'country': None, 'lat': None, 'lon': None, 'postal_code': None, 'region': None, 'store_number': None}, 'name': 'ACH Electronic CreditGUSTO PAY 123456', 'payment_channel': 'other', 'payment_meta': {'by_order_of': None, 'payee': None, 'payer': None, 'payment_method': 'ACH', 'payment_processor': None, 'ppd_id': None, 'reason': None, 'reference_number': None}, 'pending': False, 'pending_transaction_id': None, 'transaction_id': '1QM4AjpjykUd4D97LK8bCpoEvGEWZji5KDGe1', 'transaction_type': 'special', 'unofficial_currency_code': None}\n",
      "{'account_id': 'LJN4A7Z7jBCD81ebB3qrSNoADkkbg7uPQNz7B', 'account_owner': None, 'amount': 1000, 'authorized_date': None, 'category': ['Transfer', 'Deposit'], 'category_id': '21007000', 'date': '2020-01-15', 'iso_currency_code': 'USD', 'location': {'address': None, 'city': None, 'country': None, 'lat': None, 'lon': None, 'postal_code': None, 'region': None, 'store_number': None}, 'name': 'CD DEPOSIT .INITIAL.', 'payment_channel': 'other', 'payment_meta': {'by_order_of': None, 'payee': None, 'payer': None, 'payment_method': None, 'payment_processor': None, 'ppd_id': None, 'reason': None, 'reference_number': None}, 'pending': False, 'pending_transaction_id': None, 'transaction_id': 'PJZQLMpMeaCJxgGbaBwqFN3rKwrpQdi7kKrWM', 'transaction_type': 'special', 'unofficial_currency_code': None}\n",
      "{'account_id': 'pvRP68V8LxFeZxjEAndwSKwrQxxbLGULr5mw8', 'account_owner': None, 'amount': 78.5, 'authorized_date': None, 'category': ['Recreation', 'Gyms and Fitness Centers'], 'category_id': '17018000', 'date': '2020-01-14', 'iso_currency_code': 'USD', 'location': {'address': None, 'city': None, 'country': None, 'lat': None, 'lon': None, 'postal_code': None, 'region': None, 'store_number': None}, 'name': 'Touchstone Climbing', 'payment_channel': 'in store', 'payment_meta': {'by_order_of': None, 'payee': None, 'payer': None, 'payment_method': None, 'payment_processor': None, 'ppd_id': None, 'reason': None, 'reference_number': None}, 'pending': False, 'pending_transaction_id': None, 'transaction_id': 'MJNjneMew3C6bLm93yBeFqWjVRjpGxU9lm8Pv', 'transaction_type': 'place', 'unofficial_currency_code': None}\n",
      "{'account_id': 'MJNjneMew3C6bLm93yBeFqWJ6ww983f9lQZKN', 'account_owner': None, 'amount': -500, 'authorized_date': None, 'category': ['Travel', 'Airlines and Aviation Services'], 'category_id': '22001000', 'date': '2020-01-14', 'iso_currency_code': 'USD', 'location': {'address': None, 'city': None, 'country': None, 'lat': None, 'lon': None, 'postal_code': None, 'region': None, 'store_number': None}, 'name': 'United Airlines', 'payment_channel': 'other', 'payment_meta': {'by_order_of': None, 'payee': None, 'payer': None, 'payment_method': None, 'payment_processor': None, 'ppd_id': None, 'reason': None, 'reference_number': None}, 'pending': False, 'pending_transaction_id': None, 'transaction_id': '3MXGZegeB7sm7xeNXlrvhn8y6KyVN4uqrWeng', 'transaction_type': 'special', 'unofficial_currency_code': None}\n",
      "{'account_id': 'MJNjneMew3C6bLm93yBeFqWJ6ww983f9lQZKN', 'account_owner': None, 'amount': 12, 'authorized_date': None, 'category': ['Food and Drink', 'Restaurants', 'Fast Food'], 'category_id': '13005032', 'date': '2020-01-13', 'iso_currency_code': 'USD', 'location': {'address': None, 'city': None, 'country': None, 'lat': None, 'lon': None, 'postal_code': None, 'region': None, 'store_number': '3322'}, 'name': \"McDonald's\", 'payment_channel': 'in store', 'payment_meta': {'by_order_of': None, 'payee': None, 'payer': None, 'payment_method': None, 'payment_processor': None, 'ppd_id': None, 'reason': None, 'reference_number': None}, 'pending': False, 'pending_transaction_id': None, 'transaction_id': 'xvWg63V3BeFjdeRXJ9v1FX1pyjp6r3fn7QRVP', 'transaction_type': 'place', 'unofficial_currency_code': None}\n",
      "{'account_id': 'MJNjneMew3C6bLm93yBeFqWJ6ww983f9lQZKN', 'account_owner': None, 'amount': 4.33, 'authorized_date': None, 'category': ['Food and Drink', 'Restaurants', 'Coffee Shop'], 'category_id': '13005043', 'date': '2020-01-13', 'iso_currency_code': 'USD', 'location': {'address': None, 'city': None, 'country': None, 'lat': None, 'lon': None, 'postal_code': None, 'region': None, 'store_number': None}, 'name': 'Starbucks', 'payment_channel': 'in store', 'payment_meta': {'by_order_of': None, 'payee': None, 'payer': None, 'payment_method': None, 'payment_processor': None, 'ppd_id': None, 'reason': None, 'reference_number': None}, 'pending': False, 'pending_transaction_id': None, 'transaction_id': 'd13DRPVPdnC8grJknmw3ig3pqepoJMSZMXxQE', 'transaction_type': 'place', 'unofficial_currency_code': None}\n",
      "{'account_id': 'MJNjneMew3C6bLm93yBeFqWJ6ww983f9lQZKN', 'account_owner': None, 'amount': 89.4, 'authorized_date': None, 'category': ['Food and Drink', 'Restaurants'], 'category_id': '13005000', 'date': '2020-01-12', 'iso_currency_code': 'USD', 'location': {'address': None, 'city': None, 'country': None, 'lat': None, 'lon': None, 'postal_code': None, 'region': None, 'store_number': None}, 'name': 'SparkFun', 'payment_channel': 'in store', 'payment_meta': {'by_order_of': None, 'payee': None, 'payer': None, 'payment_method': None, 'payment_processor': None, 'ppd_id': None, 'reason': None, 'reference_number': None}, 'pending': False, 'pending_transaction_id': None, 'transaction_id': 'aQrBRaVadWUewL8KWBJ9SN9aPEaDw5i7aXxQm', 'transaction_type': 'place', 'unofficial_currency_code': None}\n",
      "{'account_id': '1QM4AjpjykUd4D97LK8bCpomDXX5g4C5KMvzD', 'account_owner': None, 'amount': -4.22, 'authorized_date': None, 'category': ['Transfer', 'Credit'], 'category_id': '21005000', 'date': '2020-01-11', 'iso_currency_code': 'USD', 'location': {'address': None, 'city': None, 'country': None, 'lat': None, 'lon': None, 'postal_code': None, 'region': None, 'store_number': None}, 'name': 'INTRST PYMNT', 'payment_channel': 'other', 'payment_meta': {'by_order_of': None, 'payee': None, 'payer': None, 'payment_method': None, 'payment_processor': None, 'ppd_id': None, 'reason': None, 'reference_number': None}, 'pending': False, 'pending_transaction_id': None, 'transaction_id': 'NJj7LQ1QwxCKkprwxvaAhylgnxgpRZuWjVq51', 'transaction_type': 'special', 'unofficial_currency_code': None}\n",
      "{'account_id': 'pvRP68V8LxFeZxjEAndwSKwrQxxbLGULr5mw8', 'account_owner': None, 'amount': 500, 'authorized_date': None, 'category': ['Travel', 'Airlines and Aviation Services'], 'category_id': '22001000', 'date': '2020-01-01', 'iso_currency_code': 'USD', 'location': {'address': None, 'city': None, 'country': None, 'lat': None, 'lon': None, 'postal_code': None, 'region': None, 'store_number': None}, 'name': 'United Airlines', 'payment_channel': 'in store', 'payment_meta': {'by_order_of': None, 'payee': None, 'payer': None, 'payment_method': None, 'payment_processor': None, 'ppd_id': None, 'reason': None, 'reference_number': None}, 'pending': False, 'pending_transaction_id': None, 'transaction_id': 'JJN4yPeParCWkZzDrvxXTqyyWlkLxDCd8XRNd', 'transaction_type': 'special', 'unofficial_currency_code': None}\n",
      "{'account_id': 'MJNjneMew3C6bLm93yBeFqWJ6ww983f9lQZKN', 'account_owner': None, 'amount': 6.33, 'authorized_date': None, 'category': ['Travel', 'Taxi'], 'category_id': '22016000', 'date': '2019-12-30', 'iso_currency_code': 'USD', 'location': {'address': None, 'city': None, 'country': None, 'lat': None, 'lon': None, 'postal_code': None, 'region': None, 'store_number': None}, 'name': 'Uber', 'payment_channel': 'in store', 'payment_meta': {'by_order_of': None, 'payee': None, 'payer': None, 'payment_method': None, 'payment_processor': None, 'ppd_id': None, 'reason': None, 'reference_number': None}, 'pending': False, 'pending_transaction_id': None, 'transaction_id': 'wvXb6BVBA7FBj7KG1PgNFyNNekv3X4FrXzWL4', 'transaction_type': 'special', 'unofficial_currency_code': None}\n",
      "{'account_id': 'pvRP68V8LxFeZxjEAndwSKwrQxxbLGULr5mw8', 'account_owner': None, 'amount': 500, 'authorized_date': None, 'category': ['Food and Drink', 'Restaurants'], 'category_id': '13005000', 'date': '2019-12-27', 'iso_currency_code': 'USD', 'location': {'address': None, 'city': None, 'country': None, 'lat': None, 'lon': None, 'postal_code': None, 'region': None, 'store_number': None}, 'name': 'Tectra Inc', 'payment_channel': 'in store', 'payment_meta': {'by_order_of': None, 'payee': None, 'payer': None, 'payment_method': None, 'payment_processor': None, 'ppd_id': None, 'reason': None, 'reference_number': None}, 'pending': False, 'pending_transaction_id': None, 'transaction_id': '5kM4XZEZxQiQNL3RnolxSWwwL6bQxoSZrXNLx', 'transaction_type': 'place', 'unofficial_currency_code': None}\n",
      "{'account_id': 'pvRP68V8LxFeZxjEAndwSKwrQxxbLGULr5mw8', 'account_owner': None, 'amount': 2078.5, 'authorized_date': None, 'category': ['Payment'], 'category_id': '16000000', 'date': '2019-12-26', 'iso_currency_code': 'USD', 'location': {'address': None, 'city': None, 'country': None, 'lat': None, 'lon': None, 'postal_code': None, 'region': None, 'store_number': None}, 'name': 'AUTOMATIC PAYMENT - THANK', 'payment_channel': 'other', 'payment_meta': {'by_order_of': None, 'payee': None, 'payer': None, 'payment_method': None, 'payment_processor': None, 'ppd_id': None, 'reason': None, 'reference_number': None}, 'pending': False, 'pending_transaction_id': None, 'transaction_id': 'wvXb6BVBA7FBj7KG1PgNFyNNekv3X4FrXzWdA', 'transaction_type': 'special', 'unofficial_currency_code': None}\n",
      "{'account_id': 'pvRP68V8LxFeZxjEAndwSKwrQxxbLGULr5mw8', 'account_owner': None, 'amount': 500, 'authorized_date': None, 'category': ['Food and Drink', 'Restaurants', 'Fast Food'], 'category_id': '13005032', 'date': '2019-12-26', 'iso_currency_code': 'USD', 'location': {'address': None, 'city': None, 'country': None, 'lat': None, 'lon': None, 'postal_code': None, 'region': None, 'store_number': None}, 'name': 'KFC', 'payment_channel': 'in store', 'payment_meta': {'by_order_of': None, 'payee': None, 'payer': None, 'payment_method': None, 'payment_processor': None, 'ppd_id': None, 'reason': None, 'reference_number': None}, 'pending': False, 'pending_transaction_id': None, 'transaction_id': 'VByaz8A81eivQXbyeJjEczaaxpW87QtWMQKA5', 'transaction_type': 'place', 'unofficial_currency_code': None}\n",
      "{'account_id': 'pvRP68V8LxFeZxjEAndwSKwrQxxbLGULr5mw8', 'account_owner': None, 'amount': 500, 'authorized_date': None, 'category': ['Shops', 'Sporting Goods'], 'category_id': '19046000', 'date': '2019-12-26', 'iso_currency_code': 'USD', 'location': {'address': None, 'city': None, 'country': None, 'lat': None, 'lon': None, 'postal_code': None, 'region': None, 'store_number': None}, 'name': 'Madison Bicycle Shop', 'payment_channel': 'in store', 'payment_meta': {'by_order_of': None, 'payee': None, 'payer': None, 'payment_method': None, 'payment_processor': None, 'ppd_id': None, 'reason': None, 'reference_number': None}, 'pending': False, 'pending_transaction_id': None, 'transaction_id': 'DJz1E3a3RmCnqNjEekxyt177n4XDKghvqN6pr', 'transaction_type': 'place', 'unofficial_currency_code': None}\n",
      "{'account_id': '1QM4AjpjykUd4D97LK8bCpomDXX5g4C5KMvzD', 'account_owner': None, 'amount': 25, 'authorized_date': None, 'category': ['Payment', 'Credit Card'], 'category_id': '16001000', 'date': '2019-12-17', 'iso_currency_code': 'USD', 'location': {'address': None, 'city': None, 'country': None, 'lat': None, 'lon': None, 'postal_code': None, 'region': None, 'store_number': None}, 'name': 'CREDIT CARD 3333 PAYMENT *//', 'payment_channel': 'other', 'payment_meta': {'by_order_of': None, 'payee': None, 'payer': None, 'payment_method': None, 'payment_processor': None, 'ppd_id': None, 'reason': None, 'reference_number': None}, 'pending': False, 'pending_transaction_id': None, 'transaction_id': 'JJN4yPeParCWkZzDrvxXTqyyWlkLxDCd8XR1z', 'transaction_type': 'special', 'unofficial_currency_code': None}\n",
      "{'account_id': 'MJNjneMew3C6bLm93yBeFqWJ6ww983f9lQZKN', 'account_owner': None, 'amount': 5.4, 'authorized_date': None, 'category': ['Travel', 'Taxi'], 'category_id': '22016000', 'date': '2019-12-17', 'iso_currency_code': 'USD', 'location': {'address': None, 'city': None, 'country': None, 'lat': None, 'lon': None, 'postal_code': None, 'region': None, 'store_number': None}, 'name': 'Uber', 'payment_channel': 'in store', 'payment_meta': {'by_order_of': None, 'payee': None, 'payer': None, 'payment_method': None, 'payment_processor': None, 'ppd_id': None, 'reason': None, 'reference_number': None}, 'pending': False, 'pending_transaction_id': None, 'transaction_id': 'VByaz8A81eivQXbyeJjEczaaxpW87QtWMQKRL', 'transaction_type': 'special', 'unofficial_currency_code': None}\n",
      "{'account_id': 'ovmJ6gVgX3Fon3eGmdwQhBQM4bbLZ3CRMNwjw', 'account_owner': None, 'amount': 5850, 'authorized_date': None, 'category': ['Transfer', 'Debit'], 'category_id': '21006000', 'date': '2019-12-16', 'iso_currency_code': 'USD', 'location': {'address': None, 'city': None, 'country': None, 'lat': None, 'lon': None, 'postal_code': None, 'region': None, 'store_number': None}, 'name': 'ACH Electronic CreditGUSTO PAY 123456', 'payment_channel': 'other', 'payment_meta': {'by_order_of': None, 'payee': None, 'payer': None, 'payment_method': 'ACH', 'payment_processor': None, 'ppd_id': None, 'reason': None, 'reference_number': None}, 'pending': False, 'pending_transaction_id': None, 'transaction_id': 'pvRP68V8LxFeZxjEAndwSKwwQjXLz6ULMl5yn', 'transaction_type': 'special', 'unofficial_currency_code': None}\n",
      "{'account_id': 'LJN4A7Z7jBCD81ebB3qrSNoADkkbg7uPQNz7B', 'account_owner': None, 'amount': 1000, 'authorized_date': None, 'category': ['Transfer', 'Deposit'], 'category_id': '21007000', 'date': '2019-12-16', 'iso_currency_code': 'USD', 'location': {'address': None, 'city': None, 'country': None, 'lat': None, 'lon': None, 'postal_code': None, 'region': None, 'store_number': None}, 'name': 'CD DEPOSIT .INITIAL.', 'payment_channel': 'other', 'payment_meta': {'by_order_of': None, 'payee': None, 'payer': None, 'payment_method': None, 'payment_processor': None, 'ppd_id': None, 'reason': None, 'reference_number': None}, 'pending': False, 'pending_transaction_id': None, 'transaction_id': 'pvRP68V8LxFeZxjEAndwSKwwQjXLz6ULMl5Xg', 'transaction_type': 'special', 'unofficial_currency_code': None}\n",
      "{'account_id': 'pvRP68V8LxFeZxjEAndwSKwrQxxbLGULr5mw8', 'account_owner': None, 'amount': 78.5, 'authorized_date': None, 'category': ['Recreation', 'Gyms and Fitness Centers'], 'category_id': '17018000', 'date': '2019-12-15', 'iso_currency_code': 'USD', 'location': {'address': None, 'city': None, 'country': None, 'lat': None, 'lon': None, 'postal_code': None, 'region': None, 'store_number': None}, 'name': 'Touchstone Climbing', 'payment_channel': 'in store', 'payment_meta': {'by_order_of': None, 'payee': None, 'payer': None, 'payment_method': None, 'payment_processor': None, 'ppd_id': None, 'reason': None, 'reference_number': None}, 'pending': False, 'pending_transaction_id': None, 'transaction_id': 'XxVg3lnl1ZCk9BrbZedySAoonDLJp8sdAkela', 'transaction_type': 'place', 'unofficial_currency_code': None}\n",
      "{'account_id': 'MJNjneMew3C6bLm93yBeFqWJ6ww983f9lQZKN', 'account_owner': None, 'amount': -500, 'authorized_date': None, 'category': ['Travel', 'Airlines and Aviation Services'], 'category_id': '22001000', 'date': '2019-12-15', 'iso_currency_code': 'USD', 'location': {'address': None, 'city': None, 'country': None, 'lat': None, 'lon': None, 'postal_code': None, 'region': None, 'store_number': None}, 'name': 'United Airlines', 'payment_channel': 'other', 'payment_meta': {'by_order_of': None, 'payee': None, 'payer': None, 'payment_method': None, 'payment_processor': None, 'ppd_id': None, 'reason': None, 'reference_number': None}, 'pending': False, 'pending_transaction_id': None, 'transaction_id': 'DJz1E3a3RmCnqNjEekxyt177n4XDKghvqN6np', 'transaction_type': 'special', 'unofficial_currency_code': None}\n",
      "{'account_id': 'MJNjneMew3C6bLm93yBeFqWJ6ww983f9lQZKN', 'account_owner': None, 'amount': 12, 'authorized_date': None, 'category': ['Food and Drink', 'Restaurants', 'Fast Food'], 'category_id': '13005032', 'date': '2019-12-14', 'iso_currency_code': 'USD', 'location': {'address': None, 'city': None, 'country': None, 'lat': None, 'lon': None, 'postal_code': None, 'region': None, 'store_number': '3322'}, 'name': \"McDonald's\", 'payment_channel': 'in store', 'payment_meta': {'by_order_of': None, 'payee': None, 'payer': None, 'payment_method': None, 'payment_processor': None, 'ppd_id': None, 'reason': None, 'reference_number': None}, 'pending': False, 'pending_transaction_id': None, 'transaction_id': '6pbekMWMmZCGW5xB6VPNSz44pVklZWtg7QdGk', 'transaction_type': 'place', 'unofficial_currency_code': None}\n",
      "{'account_id': 'MJNjneMew3C6bLm93yBeFqWJ6ww983f9lQZKN', 'account_owner': None, 'amount': 4.33, 'authorized_date': None, 'category': ['Food and Drink', 'Restaurants', 'Coffee Shop'], 'category_id': '13005043', 'date': '2019-12-14', 'iso_currency_code': 'USD', 'location': {'address': None, 'city': None, 'country': None, 'lat': None, 'lon': None, 'postal_code': None, 'region': None, 'store_number': None}, 'name': 'Starbucks', 'payment_channel': 'in store', 'payment_meta': {'by_order_of': None, 'payee': None, 'payer': None, 'payment_method': None, 'payment_processor': None, 'ppd_id': None, 'reason': None, 'reference_number': None}, 'pending': False, 'pending_transaction_id': None, 'transaction_id': 'XxVg3lnl1ZCk9BrbZedySAoonDLJp8sdAkey8', 'transaction_type': 'place', 'unofficial_currency_code': None}\n",
      "{'account_id': 'MJNjneMew3C6bLm93yBeFqWJ6ww983f9lQZKN', 'account_owner': None, 'amount': 89.4, 'authorized_date': None, 'category': ['Food and Drink', 'Restaurants'], 'category_id': '13005000', 'date': '2019-12-13', 'iso_currency_code': 'USD', 'location': {'address': None, 'city': None, 'country': None, 'lat': None, 'lon': None, 'postal_code': None, 'region': None, 'store_number': None}, 'name': 'SparkFun', 'payment_channel': 'in store', 'payment_meta': {'by_order_of': None, 'payee': None, 'payer': None, 'payment_method': None, 'payment_processor': None, 'ppd_id': None, 'reason': None, 'reference_number': None}, 'pending': False, 'pending_transaction_id': None, 'transaction_id': 'RqyQlLgLVNFL9JxQNW6ghkrrX9bmgNiRVNnJZ', 'transaction_type': 'place', 'unofficial_currency_code': None}\n",
      "{'account_id': '1QM4AjpjykUd4D97LK8bCpomDXX5g4C5KMvzD', 'account_owner': None, 'amount': -4.22, 'authorized_date': None, 'category': ['Transfer', 'Credit'], 'category_id': '21005000', 'date': '2019-12-12', 'iso_currency_code': 'USD', 'location': {'address': None, 'city': None, 'country': None, 'lat': None, 'lon': None, 'postal_code': None, 'region': None, 'store_number': None}, 'name': 'INTRST PYMNT', 'payment_channel': 'other', 'payment_meta': {'by_order_of': None, 'payee': None, 'payer': None, 'payment_method': None, 'payment_processor': None, 'ppd_id': None, 'reason': None, 'reference_number': None}, 'pending': False, 'pending_transaction_id': None, 'transaction_id': '5kM4XZEZxQiQNL3RnolxSWwwL6bQxoSZrXNbq', 'transaction_type': 'special', 'unofficial_currency_code': None}\n",
      "{'account_id': 'pvRP68V8LxFeZxjEAndwSKwrQxxbLGULr5mw8', 'account_owner': None, 'amount': 500, 'authorized_date': None, 'category': ['Travel', 'Airlines and Aviation Services'], 'category_id': '22001000', 'date': '2019-12-02', 'iso_currency_code': 'USD', 'location': {'address': None, 'city': None, 'country': None, 'lat': None, 'lon': None, 'postal_code': None, 'region': None, 'store_number': None}, 'name': 'United Airlines', 'payment_channel': 'in store', 'payment_meta': {'by_order_of': None, 'payee': None, 'payer': None, 'payment_method': None, 'payment_processor': None, 'ppd_id': None, 'reason': None, 'reference_number': None}, 'pending': False, 'pending_transaction_id': None, 'transaction_id': '6pbekMWMmZCGW5xB6VPNSz44pVklZWtg7QdAZ', 'transaction_type': 'special', 'unofficial_currency_code': None}\n",
      "{'account_id': 'MJNjneMew3C6bLm93yBeFqWJ6ww983f9lQZKN', 'account_owner': None, 'amount': 6.33, 'authorized_date': None, 'category': ['Travel', 'Taxi'], 'category_id': '22016000', 'date': '2019-11-30', 'iso_currency_code': 'USD', 'location': {'address': None, 'city': None, 'country': None, 'lat': None, 'lon': None, 'postal_code': None, 'region': None, 'store_number': None}, 'name': 'Uber', 'payment_channel': 'in store', 'payment_meta': {'by_order_of': None, 'payee': None, 'payer': None, 'payment_method': None, 'payment_processor': None, 'ppd_id': None, 'reason': None, 'reference_number': None}, 'pending': False, 'pending_transaction_id': None, 'transaction_id': 'vvWM6zVz5jFwxj9EeaXLS4LL6Rd3exuWQb8lg', 'transaction_type': 'special', 'unofficial_currency_code': None}\n",
      "{'account_id': 'pvRP68V8LxFeZxjEAndwSKwrQxxbLGULr5mw8', 'account_owner': None, 'amount': 500, 'authorized_date': None, 'category': ['Food and Drink', 'Restaurants'], 'category_id': '13005000', 'date': '2019-11-27', 'iso_currency_code': 'USD', 'location': {'address': None, 'city': None, 'country': None, 'lat': None, 'lon': None, 'postal_code': None, 'region': None, 'store_number': None}, 'name': 'Tectra Inc', 'payment_channel': 'in store', 'payment_meta': {'by_order_of': None, 'payee': None, 'payer': None, 'payment_method': None, 'payment_processor': None, 'ppd_id': None, 'reason': None, 'reference_number': None}, 'pending': False, 'pending_transaction_id': None, 'transaction_id': 'RqyQlLgLVNFL9JxQNW6ghkrrX9bmgNiRVNn1j', 'transaction_type': 'place', 'unofficial_currency_code': None}\n",
      "{'account_id': 'pvRP68V8LxFeZxjEAndwSKwrQxxbLGULr5mw8', 'account_owner': None, 'amount': 2078.5, 'authorized_date': None, 'category': ['Payment'], 'category_id': '16000000', 'date': '2019-11-26', 'iso_currency_code': 'USD', 'location': {'address': None, 'city': None, 'country': None, 'lat': None, 'lon': None, 'postal_code': None, 'region': None, 'store_number': None}, 'name': 'AUTOMATIC PAYMENT - THANK', 'payment_channel': 'other', 'payment_meta': {'by_order_of': None, 'payee': None, 'payer': None, 'payment_method': None, 'payment_processor': None, 'ppd_id': None, 'reason': None, 'reference_number': None}, 'pending': False, 'pending_transaction_id': None, 'transaction_id': 'vvWM6zVz5jFwxj9EeaXLS4LL6Rd3exuWQb87z', 'transaction_type': 'special', 'unofficial_currency_code': None}\n",
      "{'account_id': 'pvRP68V8LxFeZxjEAndwSKwrQxxbLGULr5mw8', 'account_owner': None, 'amount': 500, 'authorized_date': None, 'category': ['Food and Drink', 'Restaurants', 'Fast Food'], 'category_id': '13005032', 'date': '2019-11-26', 'iso_currency_code': 'USD', 'location': {'address': None, 'city': None, 'country': None, 'lat': None, 'lon': None, 'postal_code': None, 'region': None, 'store_number': None}, 'name': 'KFC', 'payment_channel': 'in store', 'payment_meta': {'by_order_of': None, 'payee': None, 'payer': None, 'payment_method': None, 'payment_processor': None, 'ppd_id': None, 'reason': None, 'reference_number': None}, 'pending': False, 'pending_transaction_id': None, 'transaction_id': '9JMdopnpVLCW4lLNg6ndTPKKWJqNdLFRNoZJv', 'transaction_type': 'place', 'unofficial_currency_code': None}\n",
      "{'account_id': 'pvRP68V8LxFeZxjEAndwSKwrQxxbLGULr5mw8', 'account_owner': None, 'amount': 500, 'authorized_date': None, 'category': ['Shops', 'Sporting Goods'], 'category_id': '19046000', 'date': '2019-11-26', 'iso_currency_code': 'USD', 'location': {'address': None, 'city': None, 'country': None, 'lat': None, 'lon': None, 'postal_code': None, 'region': None, 'store_number': None}, 'name': 'Madison Bicycle Shop', 'payment_channel': 'in store', 'payment_meta': {'by_order_of': None, 'payee': None, 'payer': None, 'payment_method': None, 'payment_processor': None, 'ppd_id': None, 'reason': None, 'reference_number': None}, 'pending': False, 'pending_transaction_id': None, 'transaction_id': 'ywWM6xlx3Qsg4vd9nVXlUpLLyNorWdFyRPEvG', 'transaction_type': 'place', 'unofficial_currency_code': None}\n",
      "{'account_id': '1QM4AjpjykUd4D97LK8bCpomDXX5g4C5KMvzD', 'account_owner': None, 'amount': 25, 'authorized_date': None, 'category': ['Payment', 'Credit Card'], 'category_id': '16001000', 'date': '2019-11-17', 'iso_currency_code': 'USD', 'location': {'address': None, 'city': None, 'country': None, 'lat': None, 'lon': None, 'postal_code': None, 'region': None, 'store_number': None}, 'name': 'CREDIT CARD 3333 PAYMENT *//', 'payment_channel': 'other', 'payment_meta': {'by_order_of': None, 'payee': None, 'payer': None, 'payment_method': None, 'payment_processor': None, 'ppd_id': None, 'reason': None, 'reference_number': None}, 'pending': False, 'pending_transaction_id': None, 'transaction_id': 'wvXb6BVBA7FBj7KG1PgNFyNNekv3X4FrXzW34', 'transaction_type': 'special', 'unofficial_currency_code': None}\n",
      "{'account_id': 'MJNjneMew3C6bLm93yBeFqWJ6ww983f9lQZKN', 'account_owner': None, 'amount': 5.4, 'authorized_date': None, 'category': ['Travel', 'Taxi'], 'category_id': '22016000', 'date': '2019-11-17', 'iso_currency_code': 'USD', 'location': {'address': None, 'city': None, 'country': None, 'lat': None, 'lon': None, 'postal_code': None, 'region': None, 'store_number': None}, 'name': 'Uber', 'payment_channel': 'in store', 'payment_meta': {'by_order_of': None, 'payee': None, 'payer': None, 'payment_method': None, 'payment_processor': None, 'ppd_id': None, 'reason': None, 'reference_number': None}, 'pending': False, 'pending_transaction_id': None, 'transaction_id': '9JMdopnpVLCW4lLNg6ndTPKKWJqNdLFRNoZnn', 'transaction_type': 'special', 'unofficial_currency_code': None}\n",
      "{'account_id': 'ovmJ6gVgX3Fon3eGmdwQhBQM4bbLZ3CRMNwjw', 'account_owner': None, 'amount': 5850, 'authorized_date': None, 'category': ['Transfer', 'Debit'], 'category_id': '21006000', 'date': '2019-11-16', 'iso_currency_code': 'USD', 'location': {'address': None, 'city': None, 'country': None, 'lat': None, 'lon': None, 'postal_code': None, 'region': None, 'store_number': None}, 'name': 'ACH Electronic CreditGUSTO PAY 123456', 'payment_channel': 'other', 'payment_meta': {'by_order_of': None, 'payee': None, 'payer': None, 'payment_method': 'ACH', 'payment_processor': None, 'ppd_id': None, 'reason': None, 'reference_number': None}, 'pending': False, 'pending_transaction_id': None, 'transaction_id': 'LJN4A7Z7jBCD81ebB3qrSNooDXEgM1CPn6Nvp', 'transaction_type': 'special', 'unofficial_currency_code': None}\n",
      "{'account_id': 'LJN4A7Z7jBCD81ebB3qrSNoADkkbg7uPQNz7B', 'account_owner': None, 'amount': 1000, 'authorized_date': None, 'category': ['Transfer', 'Deposit'], 'category_id': '21007000', 'date': '2019-11-16', 'iso_currency_code': 'USD', 'location': {'address': None, 'city': None, 'country': None, 'lat': None, 'lon': None, 'postal_code': None, 'region': None, 'store_number': None}, 'name': 'CD DEPOSIT .INITIAL.', 'payment_channel': 'other', 'payment_meta': {'by_order_of': None, 'payee': None, 'payer': None, 'payment_method': None, 'payment_processor': None, 'ppd_id': None, 'reason': None, 'reference_number': None}, 'pending': False, 'pending_transaction_id': None, 'transaction_id': 'LJN4A7Z7jBCD81ebB3qrSNooDXEgM1CPn6N3Q', 'transaction_type': 'special', 'unofficial_currency_code': None}\n",
      "{'account_id': 'pvRP68V8LxFeZxjEAndwSKwrQxxbLGULr5mw8', 'account_owner': None, 'amount': 78.5, 'authorized_date': None, 'category': ['Recreation', 'Gyms and Fitness Centers'], 'category_id': '17018000', 'date': '2019-11-15', 'iso_currency_code': 'USD', 'location': {'address': None, 'city': None, 'country': None, 'lat': None, 'lon': None, 'postal_code': None, 'region': None, 'store_number': None}, 'name': 'Touchstone Climbing', 'payment_channel': 'in store', 'payment_meta': {'by_order_of': None, 'payee': None, 'payer': None, 'payment_method': None, 'payment_processor': None, 'ppd_id': None, 'reason': None, 'reference_number': None}, 'pending': False, 'pending_transaction_id': None, 'transaction_id': 'mvXg6pVpLzFBpz8EamDPFKPPdp8jVNULZe13b', 'transaction_type': 'place', 'unofficial_currency_code': None}\n",
      "{'account_id': 'MJNjneMew3C6bLm93yBeFqWJ6ww983f9lQZKN', 'account_owner': None, 'amount': -500, 'authorized_date': None, 'category': ['Travel', 'Airlines and Aviation Services'], 'category_id': '22001000', 'date': '2019-11-15', 'iso_currency_code': 'USD', 'location': {'address': None, 'city': None, 'country': None, 'lat': None, 'lon': None, 'postal_code': None, 'region': None, 'store_number': None}, 'name': 'United Airlines', 'payment_channel': 'other', 'payment_meta': {'by_order_of': None, 'payee': None, 'payer': None, 'payment_method': None, 'payment_processor': None, 'ppd_id': None, 'reason': None, 'reference_number': None}, 'pending': False, 'pending_transaction_id': None, 'transaction_id': 'ywWM6xlx3Qsg4vd9nVXlUpLLyNorWdFyRPE5D', 'transaction_type': 'special', 'unofficial_currency_code': None}\n",
      "{'account_id': 'MJNjneMew3C6bLm93yBeFqWJ6ww983f9lQZKN', 'account_owner': None, 'amount': 12, 'authorized_date': None, 'category': ['Food and Drink', 'Restaurants', 'Fast Food'], 'category_id': '13005032', 'date': '2019-11-14', 'iso_currency_code': 'USD', 'location': {'address': None, 'city': None, 'country': None, 'lat': None, 'lon': None, 'postal_code': None, 'region': None, 'store_number': '3322'}, 'name': \"McDonald's\", 'payment_channel': 'in store', 'payment_meta': {'by_order_of': None, 'payee': None, 'payer': None, 'payment_method': None, 'payment_processor': None, 'ppd_id': None, 'reason': None, 'reference_number': None}, 'pending': False, 'pending_transaction_id': None, 'transaction_id': 'bZz6R4V43AiaXPpGAm3wh9wwqEW3VKIVpnWzo', 'transaction_type': 'place', 'unofficial_currency_code': None}\n",
      "{'account_id': 'MJNjneMew3C6bLm93yBeFqWJ6ww983f9lQZKN', 'account_owner': None, 'amount': 4.33, 'authorized_date': None, 'category': ['Food and Drink', 'Restaurants', 'Coffee Shop'], 'category_id': '13005043', 'date': '2019-11-14', 'iso_currency_code': 'USD', 'location': {'address': None, 'city': None, 'country': None, 'lat': None, 'lon': None, 'postal_code': None, 'region': None, 'store_number': None}, 'name': 'Starbucks', 'payment_channel': 'in store', 'payment_meta': {'by_order_of': None, 'payee': None, 'payer': None, 'payment_method': None, 'payment_processor': None, 'ppd_id': None, 'reason': None, 'reference_number': None}, 'pending': False, 'pending_transaction_id': None, 'transaction_id': 'mvXg6pVpLzFBpz8EamDPFKPPdp8jVNULZe1PM', 'transaction_type': 'place', 'unofficial_currency_code': None}\n",
      "{'account_id': 'MJNjneMew3C6bLm93yBeFqWJ6ww983f9lQZKN', 'account_owner': None, 'amount': 89.4, 'authorized_date': None, 'category': ['Food and Drink', 'Restaurants'], 'category_id': '13005000', 'date': '2019-11-13', 'iso_currency_code': 'USD', 'location': {'address': None, 'city': None, 'country': None, 'lat': None, 'lon': None, 'postal_code': None, 'region': None, 'store_number': None}, 'name': 'SparkFun', 'payment_channel': 'in store', 'payment_meta': {'by_order_of': None, 'payee': None, 'payer': None, 'payment_method': None, 'payment_processor': None, 'ppd_id': None, 'reason': None, 'reference_number': None}, 'pending': False, 'pending_transaction_id': None, 'transaction_id': 'nvQM6oVopkFxekZG4N6nF7nnaV9JDEF6q9zEA', 'transaction_type': 'place', 'unofficial_currency_code': None}\n",
      "{'account_id': '1QM4AjpjykUd4D97LK8bCpomDXX5g4C5KMvzD', 'account_owner': None, 'amount': -4.22, 'authorized_date': None, 'category': ['Transfer', 'Credit'], 'category_id': '21005000', 'date': '2019-11-12', 'iso_currency_code': 'USD', 'location': {'address': None, 'city': None, 'country': None, 'lat': None, 'lon': None, 'postal_code': None, 'region': None, 'store_number': None}, 'name': 'INTRST PYMNT', 'payment_channel': 'other', 'payment_meta': {'by_order_of': None, 'payee': None, 'payer': None, 'payment_method': None, 'payment_processor': None, 'ppd_id': None, 'reason': None, 'reference_number': None}, 'pending': False, 'pending_transaction_id': None, 'transaction_id': 'VByaz8A81eivQXbyeJjEczaaxpW87QtWMQKoL', 'transaction_type': 'special', 'unofficial_currency_code': None}\n"
     ]
    }
   ],
   "source": [
    "\n",
    "\n",
    "for transaction in (transaction_response['transactions']):\n",
    "    print(transaction)\n",
    "    "
   ]
  },
  {
   "cell_type": "markdown",
   "metadata": {},
   "source": [
    "### 3. Create a new DataFrame using the following fields from the JSON transaction data: date, name, amount, category. \n",
    "\n",
    "(For categories with more than one label, just use the first category label in the list)"
   ]
  },
  {
   "cell_type": "code",
   "execution_count": 259,
   "metadata": {},
   "outputs": [
    {
     "data": {
      "text/html": [
       "<div>\n",
       "<style scoped>\n",
       "    .dataframe tbody tr th:only-of-type {\n",
       "        vertical-align: middle;\n",
       "    }\n",
       "\n",
       "    .dataframe tbody tr th {\n",
       "        vertical-align: top;\n",
       "    }\n",
       "\n",
       "    .dataframe thead th {\n",
       "        text-align: right;\n",
       "    }\n",
       "</style>\n",
       "<table border=\"1\" class=\"dataframe\">\n",
       "  <thead>\n",
       "    <tr style=\"text-align: right;\">\n",
       "      <th></th>\n",
       "      <th>Date</th>\n",
       "      <th>Name</th>\n",
       "      <th>Amount</th>\n",
       "      <th>Category</th>\n",
       "    </tr>\n",
       "  </thead>\n",
       "  <tbody>\n",
       "    <tr>\n",
       "      <td>0</td>\n",
       "      <td>2020-01-31</td>\n",
       "      <td>United Airlines</td>\n",
       "      <td>500.00</td>\n",
       "      <td>Travel</td>\n",
       "    </tr>\n",
       "    <tr>\n",
       "      <td>1</td>\n",
       "      <td>2020-01-29</td>\n",
       "      <td>Uber</td>\n",
       "      <td>6.33</td>\n",
       "      <td>Travel</td>\n",
       "    </tr>\n",
       "    <tr>\n",
       "      <td>2</td>\n",
       "      <td>2020-01-26</td>\n",
       "      <td>Tectra Inc</td>\n",
       "      <td>500.00</td>\n",
       "      <td>Food and Drink</td>\n",
       "    </tr>\n",
       "    <tr>\n",
       "      <td>3</td>\n",
       "      <td>2020-01-25</td>\n",
       "      <td>AUTOMATIC PAYMENT - THANK</td>\n",
       "      <td>2078.50</td>\n",
       "      <td>Payment</td>\n",
       "    </tr>\n",
       "    <tr>\n",
       "      <td>4</td>\n",
       "      <td>2020-01-25</td>\n",
       "      <td>KFC</td>\n",
       "      <td>500.00</td>\n",
       "      <td>Food and Drink</td>\n",
       "    </tr>\n",
       "  </tbody>\n",
       "</table>\n",
       "</div>"
      ],
      "text/plain": [
       "         Date                       Name   Amount        Category\n",
       "0  2020-01-31            United Airlines   500.00          Travel\n",
       "1  2020-01-29                       Uber     6.33          Travel\n",
       "2  2020-01-26                 Tectra Inc   500.00  Food and Drink\n",
       "3  2020-01-25  AUTOMATIC PAYMENT - THANK  2078.50         Payment\n",
       "4  2020-01-25                        KFC   500.00  Food and Drink"
      ]
     },
     "execution_count": 259,
     "metadata": {},
     "output_type": "execute_result"
    }
   ],
   "source": [
    "transaction_df= pd.DataFrame(columns=['Date','Name','Amount','Category'])\n",
    "date=[]\n",
    "name=[]\n",
    "amount=[]\n",
    "category=[]\n",
    "for i in transactions:\n",
    "    date.append(i['date'])\n",
    "    name.append(i['name'])\n",
    "    amount.append(i['amount'])\n",
    "    category.append(i['category'][0])\n",
    "transaction_df['Date']=date\n",
    "transaction_df['Name']=name\n",
    "transaction_df['Amount']=amount\n",
    "transaction_df['Category']=category\n",
    "transaction_df.head()"
   ]
  },
  {
   "cell_type": "markdown",
   "metadata": {},
   "source": [
    "### 4. Convert the data types to the appropriate types \n",
    "\n",
    "(i.e. datetimeindex for the date and float for the amount)"
   ]
  },
  {
   "cell_type": "code",
   "execution_count": 260,
   "metadata": {},
   "outputs": [
    {
     "data": {
      "text/html": [
       "<div>\n",
       "<style scoped>\n",
       "    .dataframe tbody tr th:only-of-type {\n",
       "        vertical-align: middle;\n",
       "    }\n",
       "\n",
       "    .dataframe tbody tr th {\n",
       "        vertical-align: top;\n",
       "    }\n",
       "\n",
       "    .dataframe thead th {\n",
       "        text-align: right;\n",
       "    }\n",
       "</style>\n",
       "<table border=\"1\" class=\"dataframe\">\n",
       "  <thead>\n",
       "    <tr style=\"text-align: right;\">\n",
       "      <th></th>\n",
       "      <th>Date</th>\n",
       "      <th>Name</th>\n",
       "      <th>Amount</th>\n",
       "      <th>Category</th>\n",
       "    </tr>\n",
       "  </thead>\n",
       "  <tbody>\n",
       "    <tr>\n",
       "      <td>0</td>\n",
       "      <td>2020-01-31</td>\n",
       "      <td>United Airlines</td>\n",
       "      <td>500.00</td>\n",
       "      <td>Travel</td>\n",
       "    </tr>\n",
       "    <tr>\n",
       "      <td>1</td>\n",
       "      <td>2020-01-29</td>\n",
       "      <td>Uber</td>\n",
       "      <td>6.33</td>\n",
       "      <td>Travel</td>\n",
       "    </tr>\n",
       "    <tr>\n",
       "      <td>2</td>\n",
       "      <td>2020-01-26</td>\n",
       "      <td>Tectra Inc</td>\n",
       "      <td>500.00</td>\n",
       "      <td>Food and Drink</td>\n",
       "    </tr>\n",
       "    <tr>\n",
       "      <td>3</td>\n",
       "      <td>2020-01-25</td>\n",
       "      <td>AUTOMATIC PAYMENT - THANK</td>\n",
       "      <td>2078.50</td>\n",
       "      <td>Payment</td>\n",
       "    </tr>\n",
       "    <tr>\n",
       "      <td>4</td>\n",
       "      <td>2020-01-25</td>\n",
       "      <td>KFC</td>\n",
       "      <td>500.00</td>\n",
       "      <td>Food and Drink</td>\n",
       "    </tr>\n",
       "  </tbody>\n",
       "</table>\n",
       "</div>"
      ],
      "text/plain": [
       "        Date                       Name   Amount        Category\n",
       "0 2020-01-31            United Airlines   500.00          Travel\n",
       "1 2020-01-29                       Uber     6.33          Travel\n",
       "2 2020-01-26                 Tectra Inc   500.00  Food and Drink\n",
       "3 2020-01-25  AUTOMATIC PAYMENT - THANK  2078.50         Payment\n",
       "4 2020-01-25                        KFC   500.00  Food and Drink"
      ]
     },
     "execution_count": 260,
     "metadata": {},
     "output_type": "execute_result"
    }
   ],
   "source": [
    "transaction_df['Date'] = pd.to_datetime(transaction_df['Date'])\n",
    "pd.to_numeric(transaction_df['Amount'])\n",
    "transaction_df.dtypes\n",
    "transaction_df.head()"
   ]
  },
  {
   "cell_type": "markdown",
   "metadata": {},
   "source": [
    "---"
   ]
  },
  {
   "cell_type": "markdown",
   "metadata": {},
   "source": [
    "# Income Analysis with Plaid\n",
    "\n",
    "In this section, you will use the Plaid Sandbox to complete the following:\n",
    "1. Determine the previous year's gross income and print the results\n",
    "2. Determine the current monthly income and print the results\n",
    "3. Determine the projected yearly income and print the results"
   ]
  },
  {
   "cell_type": "code",
   "execution_count": 261,
   "metadata": {},
   "outputs": [
    {
     "data": {
      "text/plain": [
       "{'income': {'income_streams': [{'confidence': 0.99,\n",
       "    'days': 690,\n",
       "    'monthly_income': 500,\n",
       "    'name': 'UNITED AIRLINES'}],\n",
       "  'last_year_income': 6000,\n",
       "  'last_year_income_before_tax': 7285,\n",
       "  'max_number_of_overlapping_income_streams': 1,\n",
       "  'number_of_income_streams': 1,\n",
       "  'projected_yearly_income': 6085,\n",
       "  'projected_yearly_income_before_tax': 7389},\n",
       " 'request_id': '0OQx86BSL6wPMfa'}"
      ]
     },
     "execution_count": 261,
     "metadata": {},
     "output_type": "execute_result"
    }
   ],
   "source": [
    "prev_year_gi = client.Income.get(access_token)\n",
    "prev_year_gi"
   ]
  },
  {
   "cell_type": "markdown",
   "metadata": {},
   "source": [
    "---"
   ]
  },
  {
   "cell_type": "markdown",
   "metadata": {},
   "source": [
    "# Budget Analysis\n",
    "In this section, you will use the transactions DataFrame to analyze the customer's budget\n",
    "\n",
    "1. Calculate the total spending per category and print the results (Hint: groupby or count transactions per category)\n",
    "2. Generate a bar chart with the number of transactions for each category \n",
    "3. Calculate the expenses per month\n",
    "4. Plot the total expenses per month"
   ]
  },
  {
   "cell_type": "code",
   "execution_count": null,
   "metadata": {},
   "outputs": [],
   "source": []
  },
  {
   "cell_type": "markdown",
   "metadata": {},
   "source": [
    "### Calculate the expenses per category"
   ]
  },
  {
   "cell_type": "code",
   "execution_count": 262,
   "metadata": {},
   "outputs": [
    {
     "data": {
      "text/plain": [
       "array([<matplotlib.axes._subplots.AxesSubplot object at 0x000001E4AEADC348>],\n",
       "      dtype=object)"
      ]
     },
     "execution_count": 262,
     "metadata": {},
     "output_type": "execute_result"
    },
    {
     "data": {
      "image/png": "[encoded data removed]",
      "text/plain": [
       "<Figure size 432x288 with 1 Axes>"
      ]
     },
     "metadata": {},
     "output_type": "display_data"
    }
   ],
   "source": [
    "transaction_df.groupby('Category').sum()\n",
    "transaction_df.groupby('Category').sum().plot(kind='pie',subplots=True)\n"
   ]
  },
  {
   "cell_type": "markdown",
   "metadata": {},
   "source": [
    "### Calculate the expenses per month"
   ]
  },
  {
   "cell_type": "code",
   "execution_count": 263,
   "metadata": {},
   "outputs": [
    {
     "data": {
      "text/html": [
       "<div>\n",
       "<style scoped>\n",
       "    .dataframe tbody tr th:only-of-type {\n",
       "        vertical-align: middle;\n",
       "    }\n",
       "\n",
       "    .dataframe tbody tr th {\n",
       "        vertical-align: top;\n",
       "    }\n",
       "\n",
       "    .dataframe thead th {\n",
       "        text-align: right;\n",
       "    }\n",
       "</style>\n",
       "<table border=\"1\" class=\"dataframe\">\n",
       "  <thead>\n",
       "    <tr style=\"text-align: right;\">\n",
       "      <th></th>\n",
       "      <th>Amount</th>\n",
       "    </tr>\n",
       "    <tr>\n",
       "      <th>Category</th>\n",
       "      <th></th>\n",
       "    </tr>\n",
       "  </thead>\n",
       "  <tbody>\n",
       "    <tr>\n",
       "      <td>Food and Drink</td>\n",
       "      <td>3317.19</td>\n",
       "    </tr>\n",
       "    <tr>\n",
       "      <td>Payment</td>\n",
       "      <td>6310.50</td>\n",
       "    </tr>\n",
       "    <tr>\n",
       "      <td>Recreation</td>\n",
       "      <td>235.50</td>\n",
       "    </tr>\n",
       "    <tr>\n",
       "      <td>Shops</td>\n",
       "      <td>1500.00</td>\n",
       "    </tr>\n",
       "    <tr>\n",
       "      <td>Transfer</td>\n",
       "      <td>20537.34</td>\n",
       "    </tr>\n",
       "    <tr>\n",
       "      <td>Travel</td>\n",
       "      <td>535.19</td>\n",
       "    </tr>\n",
       "  </tbody>\n",
       "</table>\n",
       "</div>"
      ],
      "text/plain": [
       "                  Amount\n",
       "Category                \n",
       "Food and Drink   3317.19\n",
       "Payment          6310.50\n",
       "Recreation        235.50\n",
       "Shops            1500.00\n",
       "Transfer        20537.34\n",
       "Travel            535.19"
      ]
     },
     "execution_count": 263,
     "metadata": {},
     "output_type": "execute_result"
    }
   ],
   "source": [
    "#Generate a bar chart with the number of transactions for each category \n",
    "transaction_df.groupby('Category').sum()"
   ]
  },
  {
   "cell_type": "code",
   "execution_count": 264,
   "metadata": {},
   "outputs": [
    {
     "data": {
      "text/html": [
       "<div>\n",
       "<style scoped>\n",
       "    .dataframe tbody tr th:only-of-type {\n",
       "        vertical-align: middle;\n",
       "    }\n",
       "\n",
       "    .dataframe tbody tr th {\n",
       "        vertical-align: top;\n",
       "    }\n",
       "\n",
       "    .dataframe thead th {\n",
       "        text-align: right;\n",
       "    }\n",
       "</style>\n",
       "<table border=\"1\" class=\"dataframe\">\n",
       "  <thead>\n",
       "    <tr style=\"text-align: right;\">\n",
       "      <th></th>\n",
       "      <th></th>\n",
       "      <th>Amount</th>\n",
       "    </tr>\n",
       "    <tr>\n",
       "      <th>Category</th>\n",
       "      <th>Date</th>\n",
       "      <th></th>\n",
       "    </tr>\n",
       "  </thead>\n",
       "  <tbody>\n",
       "    <tr>\n",
       "      <td rowspan=\"12\" valign=\"top\">Food and Drink</td>\n",
       "      <td>2019-11-13</td>\n",
       "      <td>89.40</td>\n",
       "    </tr>\n",
       "    <tr>\n",
       "      <td>2019-11-14</td>\n",
       "      <td>16.33</td>\n",
       "    </tr>\n",
       "    <tr>\n",
       "      <td>2019-11-26</td>\n",
       "      <td>500.00</td>\n",
       "    </tr>\n",
       "    <tr>\n",
       "      <td>2019-11-27</td>\n",
       "      <td>500.00</td>\n",
       "    </tr>\n",
       "    <tr>\n",
       "      <td>2019-12-13</td>\n",
       "      <td>89.40</td>\n",
       "    </tr>\n",
       "    <tr>\n",
       "      <td>2019-12-14</td>\n",
       "      <td>16.33</td>\n",
       "    </tr>\n",
       "    <tr>\n",
       "      <td>2019-12-26</td>\n",
       "      <td>500.00</td>\n",
       "    </tr>\n",
       "    <tr>\n",
       "      <td>2019-12-27</td>\n",
       "      <td>500.00</td>\n",
       "    </tr>\n",
       "    <tr>\n",
       "      <td>2020-01-12</td>\n",
       "      <td>89.40</td>\n",
       "    </tr>\n",
       "    <tr>\n",
       "      <td>2020-01-13</td>\n",
       "      <td>16.33</td>\n",
       "    </tr>\n",
       "    <tr>\n",
       "      <td>2020-01-25</td>\n",
       "      <td>500.00</td>\n",
       "    </tr>\n",
       "    <tr>\n",
       "      <td>2020-01-26</td>\n",
       "      <td>500.00</td>\n",
       "    </tr>\n",
       "    <tr>\n",
       "      <td rowspan=\"6\" valign=\"top\">Payment</td>\n",
       "      <td>2019-11-17</td>\n",
       "      <td>25.00</td>\n",
       "    </tr>\n",
       "    <tr>\n",
       "      <td>2019-11-26</td>\n",
       "      <td>2078.50</td>\n",
       "    </tr>\n",
       "    <tr>\n",
       "      <td>2019-12-17</td>\n",
       "      <td>25.00</td>\n",
       "    </tr>\n",
       "    <tr>\n",
       "      <td>2019-12-26</td>\n",
       "      <td>2078.50</td>\n",
       "    </tr>\n",
       "    <tr>\n",
       "      <td>2020-01-16</td>\n",
       "      <td>25.00</td>\n",
       "    </tr>\n",
       "    <tr>\n",
       "      <td>2020-01-25</td>\n",
       "      <td>2078.50</td>\n",
       "    </tr>\n",
       "    <tr>\n",
       "      <td rowspan=\"3\" valign=\"top\">Recreation</td>\n",
       "      <td>2019-11-15</td>\n",
       "      <td>78.50</td>\n",
       "    </tr>\n",
       "    <tr>\n",
       "      <td>2019-12-15</td>\n",
       "      <td>78.50</td>\n",
       "    </tr>\n",
       "    <tr>\n",
       "      <td>2020-01-14</td>\n",
       "      <td>78.50</td>\n",
       "    </tr>\n",
       "    <tr>\n",
       "      <td rowspan=\"3\" valign=\"top\">Shops</td>\n",
       "      <td>2019-11-26</td>\n",
       "      <td>500.00</td>\n",
       "    </tr>\n",
       "    <tr>\n",
       "      <td>2019-12-26</td>\n",
       "      <td>500.00</td>\n",
       "    </tr>\n",
       "    <tr>\n",
       "      <td>2020-01-25</td>\n",
       "      <td>500.00</td>\n",
       "    </tr>\n",
       "    <tr>\n",
       "      <td rowspan=\"6\" valign=\"top\">Transfer</td>\n",
       "      <td>2019-11-12</td>\n",
       "      <td>-4.22</td>\n",
       "    </tr>\n",
       "    <tr>\n",
       "      <td>2019-11-16</td>\n",
       "      <td>6850.00</td>\n",
       "    </tr>\n",
       "    <tr>\n",
       "      <td>2019-12-12</td>\n",
       "      <td>-4.22</td>\n",
       "    </tr>\n",
       "    <tr>\n",
       "      <td>2019-12-16</td>\n",
       "      <td>6850.00</td>\n",
       "    </tr>\n",
       "    <tr>\n",
       "      <td>2020-01-11</td>\n",
       "      <td>-4.22</td>\n",
       "    </tr>\n",
       "    <tr>\n",
       "      <td>2020-01-15</td>\n",
       "      <td>6850.00</td>\n",
       "    </tr>\n",
       "    <tr>\n",
       "      <td rowspan=\"13\" valign=\"top\">Travel</td>\n",
       "      <td>2019-11-02</td>\n",
       "      <td>500.00</td>\n",
       "    </tr>\n",
       "    <tr>\n",
       "      <td>2019-11-15</td>\n",
       "      <td>-500.00</td>\n",
       "    </tr>\n",
       "    <tr>\n",
       "      <td>2019-11-17</td>\n",
       "      <td>5.40</td>\n",
       "    </tr>\n",
       "    <tr>\n",
       "      <td>2019-11-30</td>\n",
       "      <td>6.33</td>\n",
       "    </tr>\n",
       "    <tr>\n",
       "      <td>2019-12-02</td>\n",
       "      <td>500.00</td>\n",
       "    </tr>\n",
       "    <tr>\n",
       "      <td>2019-12-15</td>\n",
       "      <td>-500.00</td>\n",
       "    </tr>\n",
       "    <tr>\n",
       "      <td>2019-12-17</td>\n",
       "      <td>5.40</td>\n",
       "    </tr>\n",
       "    <tr>\n",
       "      <td>2019-12-30</td>\n",
       "      <td>6.33</td>\n",
       "    </tr>\n",
       "    <tr>\n",
       "      <td>2020-01-01</td>\n",
       "      <td>500.00</td>\n",
       "    </tr>\n",
       "    <tr>\n",
       "      <td>2020-01-14</td>\n",
       "      <td>-500.00</td>\n",
       "    </tr>\n",
       "    <tr>\n",
       "      <td>2020-01-16</td>\n",
       "      <td>5.40</td>\n",
       "    </tr>\n",
       "    <tr>\n",
       "      <td>2020-01-29</td>\n",
       "      <td>6.33</td>\n",
       "    </tr>\n",
       "    <tr>\n",
       "      <td>2020-01-31</td>\n",
       "      <td>500.00</td>\n",
       "    </tr>\n",
       "  </tbody>\n",
       "</table>\n",
       "</div>"
      ],
      "text/plain": [
       "                            Amount\n",
       "Category       Date               \n",
       "Food and Drink 2019-11-13    89.40\n",
       "               2019-11-14    16.33\n",
       "               2019-11-26   500.00\n",
       "               2019-11-27   500.00\n",
       "               2019-12-13    89.40\n",
       "               2019-12-14    16.33\n",
       "               2019-12-26   500.00\n",
       "               2019-12-27   500.00\n",
       "               2020-01-12    89.40\n",
       "               2020-01-13    16.33\n",
       "               2020-01-25   500.00\n",
       "               2020-01-26   500.00\n",
       "Payment        2019-11-17    25.00\n",
       "               2019-11-26  2078.50\n",
       "               2019-12-17    25.00\n",
       "               2019-12-26  2078.50\n",
       "               2020-01-16    25.00\n",
       "               2020-01-25  2078.50\n",
       "Recreation     2019-11-15    78.50\n",
       "               2019-12-15    78.50\n",
       "               2020-01-14    78.50\n",
       "Shops          2019-11-26   500.00\n",
       "               2019-12-26   500.00\n",
       "               2020-01-25   500.00\n",
       "Transfer       2019-11-12    -4.22\n",
       "               2019-11-16  6850.00\n",
       "               2019-12-12    -4.22\n",
       "               2019-12-16  6850.00\n",
       "               2020-01-11    -4.22\n",
       "               2020-01-15  6850.00\n",
       "Travel         2019-11-02   500.00\n",
       "               2019-11-15  -500.00\n",
       "               2019-11-17     5.40\n",
       "               2019-11-30     6.33\n",
       "               2019-12-02   500.00\n",
       "               2019-12-15  -500.00\n",
       "               2019-12-17     5.40\n",
       "               2019-12-30     6.33\n",
       "               2020-01-01   500.00\n",
       "               2020-01-14  -500.00\n",
       "               2020-01-16     5.40\n",
       "               2020-01-29     6.33\n",
       "               2020-01-31   500.00"
      ]
     },
     "execution_count": 264,
     "metadata": {},
     "output_type": "execute_result"
    }
   ],
   "source": [
    "transaction_df.groupby(['Category','Date']).sum()"
   ]
  },
  {
   "cell_type": "code",
   "execution_count": 265,
   "metadata": {},
   "outputs": [
    {
     "data": {
      "text/plain": [
       "<matplotlib.axes._subplots.AxesSubplot at 0x1e4b1865b88>"
      ]
     },
     "execution_count": 265,
     "metadata": {},
     "output_type": "execute_result"
    },
    {
     "data": {
      "image/png": "[encoded data removed]",
      "text/plain": [
       "<Figure size 432x288 with 1 Axes>"
      ]
     },
     "metadata": {
      "needs_background": "light"
     },
     "output_type": "display_data"
    }
   ],
   "source": [
    "#Plot the total expenses per month\n",
    "transaction_df.groupby(['Category']).sum().plot(kind='bar',title=\"Expenses Per Month\")"
   ]
  },
  {
   "cell_type": "code",
   "execution_count": null,
   "metadata": {},
   "outputs": [],
   "source": []
  }
 ],
 "metadata": {
  "kernel_info": {
   "name": "dev"
  },
  "kernelspec": {
   "display_name": "Python 3",
   "language": "python",
   "name": "python3"
  },
  "language_info": {
   "codemirror_mode": {
    "name": "ipython",
    "version": 3
   },
   "file_extension": ".py",
   "mimetype": "text/x-python",
   "name": "python",
   "nbconvert_exporter": "python",
   "pygments_lexer": "ipython3",
   "version": "3.7.4"
  },
  "nteract": {
   "version": "0.12.3"
  }
 },
 "nbformat": 4,
 "nbformat_minor": 4
}
